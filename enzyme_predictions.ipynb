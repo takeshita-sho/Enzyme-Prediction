{
  "cells": [
    {
      "cell_type": "markdown",
      "metadata": {
        "id": "-5CQAq0wmvn3"
      },
      "source": [
        "# Title: Enzyme Stability Regression\n",
        "\n",
        "### Authors: Connor Amato and Sho Takeshita\n",
        "\n",
        "## Novozymes Enzyme Stability Prediction Kaggle Competition\n",
        "\n",
        "### Motivation\n",
        "In industry, enzymes replace chemicals and accelerate production processes. Understanding enzyme stability is a problem in biotechnology, which could help reduce waste, lower costs, and increase production speed.\n",
        "\n",
        "### Overview\n",
        "Our goal is to predict the thermostability of proteins, which is measured by their melting points, after single point amino acid mutations and deletions. The relationship between protein type and thermostability is not straightforward, but the amount of disorder (e.g. mutation) in a protein sequence is the main factor according to this publication supplied by the competition: https://www.nature.com/articles/s41592-020-0801-4.\n",
        "The competition uses Spearman correlation coefficient as the metric for performance.  \n",
        "\n",
        "### The Dataset\n",
        "This kaggle competition gives us a training and a test dataset. The dataset contains around 31 thousand records of the variant for one enzyme, sourced from an attempt to atlas the thermal stability of proteins across different types of proteins. The datasets contain for each protein their sequence id (identifies each protein variant), protein sequence (amino acid sequence), pH at which the stability was measured, thermostability (melting point), and a link to the source of the data. The training set includes normal sequences as well as sequences with single or multiple mutations. The submission to the competition is a csv file with the test set along with the classified thermostability. This is a continuous data point so we will be applying some sort of regression model.\n",
        "## Reading the Data\n",
        "Here we import the necessary libraries to perform our data exploration. We will be using primarily libraries used in class with the addition of levenshtein for number of mutation calculations adn pyrosetta to calculate the strain energy."
      ]
    },
    {
      "cell_type": "code",
      "execution_count": null,
      "metadata": {
        "colab": {
          "base_uri": "https://localhost:8080/"
        },
        "id": "JF2oSrdVBnSJ",
        "outputId": "fb28b7cf-e6e1-4bd0-d917-0e0dad4d0779"
      },
      "outputs": [
        {
          "output_type": "stream",
          "name": "stdout",
          "text": [
            "Looking in indexes: https://pypi.org/simple, https://us-python.pkg.dev/colab-wheels/public/simple/\n",
            "Requirement already satisfied: pyrosettacolabsetup in /usr/local/lib/python3.8/dist-packages (1.0.6)\n",
            "PyRosetta-4 2022 [Rosetta PyRosetta4.MinSizeRel.python38.ubuntu 2022.49+release.201d7639f91f369d58b1adf514f3febaf6154c58 2022-12-07T16:15:33] retrieved from: http://www.pyrosetta.org\n",
            "(C) Copyright Rosetta Commons Member Institutions. Created in JHU by Sergey Lyskov and PyRosetta Team.\n",
            "core.init: Checking for fconfig files in pwd and ./rosetta/flags\n",
            "core.init: Rosetta version: PyRosetta4.MinSizeRel.python38.ubuntu r337 2022.49+release.201d7639f91 201d7639f91f369d58b1adf514f3febaf6154c58 http://www.pyrosetta.org 2022-12-07T16:15:33\n",
            "core.init: command: PyRosetta -ex1 -ex2aro -database /usr/local/lib/python3.8/dist-packages/pyrosetta/database\n",
            "basic.random.init_random_generator: 'RNG device' seed mode, using '/dev/urandom', seed=1867087824 seed_offset=0 real_seed=1867087824\n",
            "basic.random.init_random_generator: RandomGenerator:init: Normal mode, seed=1867087824 RG_type=mt19937\n",
            "Looking in indexes: https://pypi.org/simple, https://us-python.pkg.dev/colab-wheels/public/simple/\n",
            "Requirement already satisfied: Levenshtein in /usr/local/lib/python3.8/dist-packages (0.20.8)\n",
            "Requirement already satisfied: rapidfuzz<3.0.0,>=2.3.0 in /usr/local/lib/python3.8/dist-packages (from Levenshtein) (2.13.6)\n"
          ]
        }
      ],
      "source": [
        "import numpy as np\n",
        "import pandas as pd\n",
        "import matplotlib.pyplot as plt #Imported basic libraries\n",
        "import seaborn as sns\n",
        "import sklearn as sk\n",
        "!pip install pyrosettacolabsetup\n",
        "import pyrosettacolabsetup; pyrosettacolabsetup.install_pyrosetta()\n",
        "import pyrosetta; pyrosetta.init()\n",
        "from pyrosetta import *\n",
        "!pip install Levenshtein\n",
        "from Levenshtein import distance as levenshtein_distance\n",
        "from sklearn.ensemble import RandomForestRegressor\n",
        "from sklearn.model_selection import RandomizedSearchCV\n",
        "from sklearn.model_selection import train_test_split\n",
        "from scipy import stats\n",
        "from scipy.stats import spearmanr\n"
      ]
    },
    {
      "cell_type": "markdown",
      "metadata": {
        "id": "V7eKV3uAh_PD"
      },
      "source": [
        "Here we read in our training csv file. This provides us with the colums seq_id (protein variant), protein sequence (ammino acid sequence of protein), pH (measure of acidity the protein was recorded in), tm (melting point) and data_source, which gives us the link from which the data was collected."
      ]
    },
    {
      "cell_type": "code",
      "execution_count": null,
      "metadata": {
        "colab": {
          "base_uri": "https://localhost:8080/",
          "height": 224
        },
        "id": "TevCVSmE2njJ",
        "outputId": "8d8ed9c9-80cd-4f28-c276-ac007c120a6c"
      },
      "outputs": [
        {
          "output_type": "stream",
          "name": "stdout",
          "text": [
            "Mounted at /content/drive\n"
          ]
        },
        {
          "output_type": "execute_result",
          "data": {
            "text/plain": [
              "   seq_id                                   protein_sequence   pH  \\\n",
              "0       0  AAAAKAAALALLGEAPEVVDIWLPAGWRQPFRVFRLERKGDGVLVG...  7.0   \n",
              "1       1  AAADGEPLHNEEERAGAGQVGRSLPQESEEQRTGSRPRRRRDLGSR...  7.0   \n",
              "2       2  AAAFSTPRATSYRILSSAGSGSTRADAPQVRRLHTTRDLLAKDYYA...  7.0   \n",
              "3       3  AAASGLRTAIPAQPLRHLLQPAPRPCLRPFGLLSVRAGSARRSGLL...  7.0   \n",
              "4       4  AAATKSGPRRQSQGASVRTFTPFYFLVEPVDTLSVRGSSVILNCSA...  7.0   \n",
              "\n",
              "                         data_source    tm  \n",
              "0  doi.org/10.1038/s41592-020-0801-4  75.7  \n",
              "1  doi.org/10.1038/s41592-020-0801-4  50.5  \n",
              "2  doi.org/10.1038/s41592-020-0801-4  40.5  \n",
              "3  doi.org/10.1038/s41592-020-0801-4  47.2  \n",
              "4  doi.org/10.1038/s41592-020-0801-4  49.5  "
            ],
            "text/html": [
              "\n",
              "  <div id=\"df-28ae3413-a420-435f-94f9-63d1ab3eacbf\">\n",
              "    <div class=\"colab-df-container\">\n",
              "      <div>\n",
              "<style scoped>\n",
              "    .dataframe tbody tr th:only-of-type {\n",
              "        vertical-align: middle;\n",
              "    }\n",
              "\n",
              "    .dataframe tbody tr th {\n",
              "        vertical-align: top;\n",
              "    }\n",
              "\n",
              "    .dataframe thead th {\n",
              "        text-align: right;\n",
              "    }\n",
              "</style>\n",
              "<table border=\"1\" class=\"dataframe\">\n",
              "  <thead>\n",
              "    <tr style=\"text-align: right;\">\n",
              "      <th></th>\n",
              "      <th>seq_id</th>\n",
              "      <th>protein_sequence</th>\n",
              "      <th>pH</th>\n",
              "      <th>data_source</th>\n",
              "      <th>tm</th>\n",
              "    </tr>\n",
              "  </thead>\n",
              "  <tbody>\n",
              "    <tr>\n",
              "      <th>0</th>\n",
              "      <td>0</td>\n",
              "      <td>AAAAKAAALALLGEAPEVVDIWLPAGWRQPFRVFRLERKGDGVLVG...</td>\n",
              "      <td>7.0</td>\n",
              "      <td>doi.org/10.1038/s41592-020-0801-4</td>\n",
              "      <td>75.7</td>\n",
              "    </tr>\n",
              "    <tr>\n",
              "      <th>1</th>\n",
              "      <td>1</td>\n",
              "      <td>AAADGEPLHNEEERAGAGQVGRSLPQESEEQRTGSRPRRRRDLGSR...</td>\n",
              "      <td>7.0</td>\n",
              "      <td>doi.org/10.1038/s41592-020-0801-4</td>\n",
              "      <td>50.5</td>\n",
              "    </tr>\n",
              "    <tr>\n",
              "      <th>2</th>\n",
              "      <td>2</td>\n",
              "      <td>AAAFSTPRATSYRILSSAGSGSTRADAPQVRRLHTTRDLLAKDYYA...</td>\n",
              "      <td>7.0</td>\n",
              "      <td>doi.org/10.1038/s41592-020-0801-4</td>\n",
              "      <td>40.5</td>\n",
              "    </tr>\n",
              "    <tr>\n",
              "      <th>3</th>\n",
              "      <td>3</td>\n",
              "      <td>AAASGLRTAIPAQPLRHLLQPAPRPCLRPFGLLSVRAGSARRSGLL...</td>\n",
              "      <td>7.0</td>\n",
              "      <td>doi.org/10.1038/s41592-020-0801-4</td>\n",
              "      <td>47.2</td>\n",
              "    </tr>\n",
              "    <tr>\n",
              "      <th>4</th>\n",
              "      <td>4</td>\n",
              "      <td>AAATKSGPRRQSQGASVRTFTPFYFLVEPVDTLSVRGSSVILNCSA...</td>\n",
              "      <td>7.0</td>\n",
              "      <td>doi.org/10.1038/s41592-020-0801-4</td>\n",
              "      <td>49.5</td>\n",
              "    </tr>\n",
              "  </tbody>\n",
              "</table>\n",
              "</div>\n",
              "      <button class=\"colab-df-convert\" onclick=\"convertToInteractive('df-28ae3413-a420-435f-94f9-63d1ab3eacbf')\"\n",
              "              title=\"Convert this dataframe to an interactive table.\"\n",
              "              style=\"display:none;\">\n",
              "        \n",
              "  <svg xmlns=\"http://www.w3.org/2000/svg\" height=\"24px\"viewBox=\"0 0 24 24\"\n",
              "       width=\"24px\">\n",
              "    <path d=\"M0 0h24v24H0V0z\" fill=\"none\"/>\n",
              "    <path d=\"M18.56 5.44l.94 2.06.94-2.06 2.06-.94-2.06-.94-.94-2.06-.94 2.06-2.06.94zm-11 1L8.5 8.5l.94-2.06 2.06-.94-2.06-.94L8.5 2.5l-.94 2.06-2.06.94zm10 10l.94 2.06.94-2.06 2.06-.94-2.06-.94-.94-2.06-.94 2.06-2.06.94z\"/><path d=\"M17.41 7.96l-1.37-1.37c-.4-.4-.92-.59-1.43-.59-.52 0-1.04.2-1.43.59L10.3 9.45l-7.72 7.72c-.78.78-.78 2.05 0 2.83L4 21.41c.39.39.9.59 1.41.59.51 0 1.02-.2 1.41-.59l7.78-7.78 2.81-2.81c.8-.78.8-2.07 0-2.86zM5.41 20L4 18.59l7.72-7.72 1.47 1.35L5.41 20z\"/>\n",
              "  </svg>\n",
              "      </button>\n",
              "      \n",
              "  <style>\n",
              "    .colab-df-container {\n",
              "      display:flex;\n",
              "      flex-wrap:wrap;\n",
              "      gap: 12px;\n",
              "    }\n",
              "\n",
              "    .colab-df-convert {\n",
              "      background-color: #E8F0FE;\n",
              "      border: none;\n",
              "      border-radius: 50%;\n",
              "      cursor: pointer;\n",
              "      display: none;\n",
              "      fill: #1967D2;\n",
              "      height: 32px;\n",
              "      padding: 0 0 0 0;\n",
              "      width: 32px;\n",
              "    }\n",
              "\n",
              "    .colab-df-convert:hover {\n",
              "      background-color: #E2EBFA;\n",
              "      box-shadow: 0px 1px 2px rgba(60, 64, 67, 0.3), 0px 1px 3px 1px rgba(60, 64, 67, 0.15);\n",
              "      fill: #174EA6;\n",
              "    }\n",
              "\n",
              "    [theme=dark] .colab-df-convert {\n",
              "      background-color: #3B4455;\n",
              "      fill: #D2E3FC;\n",
              "    }\n",
              "\n",
              "    [theme=dark] .colab-df-convert:hover {\n",
              "      background-color: #434B5C;\n",
              "      box-shadow: 0px 1px 3px 1px rgba(0, 0, 0, 0.15);\n",
              "      filter: drop-shadow(0px 1px 2px rgba(0, 0, 0, 0.3));\n",
              "      fill: #FFFFFF;\n",
              "    }\n",
              "  </style>\n",
              "\n",
              "      <script>\n",
              "        const buttonEl =\n",
              "          document.querySelector('#df-28ae3413-a420-435f-94f9-63d1ab3eacbf button.colab-df-convert');\n",
              "        buttonEl.style.display =\n",
              "          google.colab.kernel.accessAllowed ? 'block' : 'none';\n",
              "\n",
              "        async function convertToInteractive(key) {\n",
              "          const element = document.querySelector('#df-28ae3413-a420-435f-94f9-63d1ab3eacbf');\n",
              "          const dataTable =\n",
              "            await google.colab.kernel.invokeFunction('convertToInteractive',\n",
              "                                                     [key], {});\n",
              "          if (!dataTable) return;\n",
              "\n",
              "          const docLinkHtml = 'Like what you see? Visit the ' +\n",
              "            '<a target=\"_blank\" href=https://colab.research.google.com/notebooks/data_table.ipynb>data table notebook</a>'\n",
              "            + ' to learn more about interactive tables.';\n",
              "          element.innerHTML = '';\n",
              "          dataTable['output_type'] = 'display_data';\n",
              "          await google.colab.output.renderOutput(dataTable, element);\n",
              "          const docLink = document.createElement('div');\n",
              "          docLink.innerHTML = docLinkHtml;\n",
              "          element.appendChild(docLink);\n",
              "        }\n",
              "      </script>\n",
              "    </div>\n",
              "  </div>\n",
              "  "
            ]
          },
          "metadata": {},
          "execution_count": 115
        }
      ],
      "source": [
        "from google.colab import drive\n",
        "drive.mount('/content/drive', force_remount=True)\n",
        "\n",
        "def load_fixed_train_df(original_train_file_path=\"/content/drive/MyDrive/novozymes-enzyme-stability-prediction/train.csv\",\n",
        "                        update_file_path=\"/content/drive/MyDrive/novozymes-enzyme-stability-prediction/train_updates_20220929.csv\",\n",
        "                        was_fixed_col=False):\n",
        "    def _fix_tm_ph(_row, update_map):\n",
        "        update_vals = update_map.get(_row[\"seq_id\"], None)\n",
        "        if update_vals is not None:\n",
        "            _row[\"tm\"] = update_vals[\"tm\"]\n",
        "            _row[\"pH\"] = update_vals[\"pH\"]\n",
        "        return _row\n",
        "    \n",
        "    # Load dataframes\n",
        "    _df = pd.read_csv(original_train_file_path)\n",
        "    _updates_df = pd.read_csv(update_file_path)\n",
        "\n",
        "    # Identify which sequence ids need to have the tm and pH values changed and create a dictionary mapping \n",
        "    seqid_2_phtm_update_map = _updates_df[~pd.isna(_updates_df[\"pH\"])].groupby(\"seq_id\")[[\"pH\", \"tm\"]].first().to_dict(\"index\")\n",
        "\n",
        "    # Identify the sequence ids that will be dropped due to data quality issues\n",
        "    bad_seqids = _updates_df[pd.isna(_updates_df[\"pH\"])][\"seq_id\"].to_list()\n",
        "    \n",
        "    # Fix bad sequence ids\n",
        "    _df = _df[~_df[\"seq_id\"].isin(bad_seqids)].reset_index(drop=True)\n",
        "    \n",
        "    # Fix pH and tm swaparoo\n",
        "    _df = _df.apply(lambda x: _fix_tm_ph(x, seqid_2_phtm_update_map), axis=1)\n",
        "\n",
        "    # Add in a bool to track if a row was fixed or not (tm/ph swap will look the same as bad data)\n",
        "    if was_fixed_col: _df[\"was_fixed\"] = _df[\"seq_id\"].isin(bad_seqids+list(seqid_2_phtm_update_map.keys()))\n",
        "    \n",
        "    return _df\n",
        "\n",
        "\n",
        "df = load_fixed_train_df()\n",
        "df.head(5)\n",
        "test_df = pd.read_csv('/content/drive/MyDrive/novozymes-enzyme-stability-prediction/test.csv')\n",
        "df.head(5)"
      ]
    },
    {
      "cell_type": "markdown",
      "metadata": {
        "id": "_F50IPAJh_PF"
      },
      "source": [
        "Here we drop data source since it is not very useful for us and does not help with calculations or predictions. We also check if there are any null values present in the data."
      ]
    },
    {
      "cell_type": "code",
      "execution_count": null,
      "metadata": {
        "colab": {
          "base_uri": "https://localhost:8080/"
        },
        "id": "NuXvB9Bsnh8u",
        "outputId": "a1a131d5-5a4e-4b27-ecfa-54ef335decb2"
      },
      "outputs": [
        {
          "output_type": "stream",
          "name": "stdout",
          "text": [
            "Amount of null protein sequences:  0 \n",
            "Amount of null tm values:  0 \n",
            "Amount of null pH values:  286\n"
          ]
        }
      ],
      "source": [
        "df = df.drop(\"data_source\", axis = 1) #This column is not useful to classification\n",
        "print('Amount of null protein sequences: ',len(df[df[\"protein_sequence\"].isnull()]),\n",
        "'\\nAmount of null tm values: ',len( df[df[\"tm\"].isnull()]),\n",
        "'\\nAmount of null pH values: ',len( df[df[\"pH\"].isnull()])) \n",
        "# Each remaining column is perfect except for the 286 missing pH values"
      ]
    },
    {
      "cell_type": "markdown",
      "metadata": {
        "id": "sEmUz9jqh_PG"
      },
      "source": [
        "Here we create a distribution plot to see what our target variable looks like. We can see that it is approximately normally distributed, but there is a cummulation of data to the right of the peak of the bell curve. The distributions is centered around a tm of around 50."
      ]
    },
    {
      "cell_type": "code",
      "execution_count": null,
      "metadata": {
        "colab": {
          "base_uri": "https://localhost:8080/",
          "height": 402
        },
        "id": "9BlokjsbqZtk",
        "outputId": "4b6fb93a-626c-413a-d9d3-52726470cf1d"
      },
      "outputs": [
        {
          "output_type": "execute_result",
          "data": {
            "text/plain": [
              "<seaborn.axisgrid.FacetGrid at 0x7fa28b5a5430>"
            ]
          },
          "metadata": {},
          "execution_count": 117
        },
        {
          "output_type": "display_data",
          "data": {
            "text/plain": [
              "<Figure size 360x360 with 1 Axes>"
            ],
            "image/png": "[encoded data removed]"
          },
          "metadata": {
            "needs_background": "light"
          }
        }
      ],
      "source": [
        "sns.displot(df['tm'], kde=True).set(title='Number of Proteins vs. tm Disribution Plot') # Let's see the distribution of the classifications \n",
        "\n",
        "#(tm is the enzyme melting point and is a measure of stability)"
      ]
    },
    {
      "cell_type": "markdown",
      "metadata": {
        "id": "UyGxAmc6h_PH"
      },
      "source": [
        "Here we create anouther distribution plot to see what the distrubution of pH looks like among proteins. It seems that the data has a massive peak around a pH of 7 and most of the data is concentrated at that peak and below. Note that pH is on a scal from 0-14. There were no pHs below 2, so we set the scale to start at 2 on the x axis. The plot looks normally distributed."
      ]
    },
    {
      "cell_type": "code",
      "execution_count": null,
      "metadata": {
        "colab": {
          "base_uri": "https://localhost:8080/",
          "height": 402
        },
        "id": "unbedBGA0HPz",
        "outputId": "568ec3e6-ea7d-474e-f810-ceb7dfe89652"
      },
      "outputs": [
        {
          "output_type": "execute_result",
          "data": {
            "text/plain": [
              "(2.0, 14.0)"
            ]
          },
          "metadata": {},
          "execution_count": 118
        },
        {
          "output_type": "display_data",
          "data": {
            "text/plain": [
              "<Figure size 360x360 with 1 Axes>"
            ],
            "image/png": "[encoded data removed]"
          },
          "metadata": {
            "needs_background": "light"
          }
        }
      ],
      "source": [
        "sns.displot(df['pH'], kde=True).set(title='Number of Proteins vs. pH Distribution Plot')\n",
        "plt.xlim(right=14,left=2)"
      ]
    },
    {
      "cell_type": "code",
      "execution_count": null,
      "metadata": {
        "colab": {
          "base_uri": "https://localhost:8080/"
        },
        "id": "-8CSQQcAqdkj",
        "outputId": "c9101249-f50c-4b0f-c77f-f4051931d812"
      },
      "outputs": [
        {
          "output_type": "stream",
          "name": "stdout",
          "text": [
            "28981  Total Rows vs  27375  Unique Sequences\n"
          ]
        }
      ],
      "source": [
        "print(len(df), \" Total Rows vs \", len(df[\"protein_sequence\"].unique()), \" Unique Sequences\")"
      ]
    },
    {
      "cell_type": "markdown",
      "metadata": {
        "id": "WksInw2LuGKf"
      },
      "source": [
        "Here we plot a scatter plot of the length of the protein sequence vs the melting point. As the length of the protein sequence gets longer the melting point temperature tends to get concentrated around 50. This is a very interesting observation and could be an important feature to consider. It almost looks like a normal distribution turned sideways."
      ]
    },
    {
      "cell_type": "code",
      "execution_count": null,
      "metadata": {
        "colab": {
          "base_uri": "https://localhost:8080/",
          "height": 312
        },
        "id": "uIKgTpF3peqe",
        "outputId": "29bd7260-a771-470e-8a37-eef0eb74fa3c"
      },
      "outputs": [
        {
          "output_type": "stream",
          "name": "stdout",
          "text": [
            "coorelation: -0.1375036328435403\n"
          ]
        },
        {
          "output_type": "display_data",
          "data": {
            "text/plain": [
              "<Figure size 432x288 with 1 Axes>"
            ],
            "image/png": "[encoded data removed]"
          },
          "metadata": {
            "needs_background": "light"
          }
        }
      ],
      "source": [
        "plt.scatter(df[\"protein_sequence\"].apply(lambda x : len(x)), df[\"tm\"])\n",
        "plt.title(\"Melting Point across Protein Sequence Length\")\n",
        "plt.xlabel(\"Sequence Length (Amino Acids)\")\n",
        "plt.ylabel(\"Melting Point (Celsius)\")\n",
        "print(\"coorelation: \" + str(df[\"tm\"].corr(df[\"protein_sequence\"].apply(lambda x : len(x))))) \n",
        "# looks like no relation, we can ignore the length of sequences"
      ]
    },
    {
      "cell_type": "markdown",
      "metadata": {
        "id": "THwfUPfFvhQH"
      },
      "source": [
        "This is the base wild type sequence provided in the description of the competition. We use this as the wildtype for the test data, since the test data is only from one protein.\n"
      ]
    },
    {
      "cell_type": "code",
      "execution_count": null,
      "metadata": {
        "colab": {
          "base_uri": "https://localhost:8080/"
        },
        "id": "14A0W9M6vPrF",
        "outputId": "58e43b85-916e-45df-afa5-7442f4de6dde"
      },
      "outputs": [
        {
          "output_type": "execute_result",
          "data": {
            "text/plain": [
              "221"
            ]
          },
          "metadata": {},
          "execution_count": 124
        }
      ],
      "source": [
        "\n",
        "base = 'VPVNPEPDATSVENVALKTGSGDSQSDPIKADLEVKGQSALPFDVDCWAILCKGAPNVLQRVNEKTKNSNRDRSGANKGPFKDPQKWGIKALPPKNPSWSAQDFKSPEEYAFASSLQGGTNAILAPVNLASQNSQGGVLNGFYSANKVAQFDPSKPQQTKGTWFQITKFTGAAGPYCKALGSNDKSVCDKNKNIAGDWGFDPAKWAYQYDEKNNKFNYVGK'\n",
        "len(base)"
      ]
    },
    {
      "cell_type": "markdown",
      "metadata": {
        "id": "RfmWc8Skp8jv"
      },
      "source": [
        "## Parsing\n",
        "The protein sequence feature is almost entirely made of of unique values, so we need to parse this into multiple more useful features. To do this, we will employ the PyRosseta library, which supplies funcitonality for dealing with molecular biology information. "
      ]
    },
    {
      "cell_type": "markdown",
      "metadata": {
        "id": "naQdjJ8_JYVQ"
      },
      "source": [
        "Using Rosetta's scoring, let's get the energy balance and number of atoms from each amino acid present in the base sequence. This will be useful later for numeralizing the mutations. Lower energies are more stable."
      ]
    },
    {
      "cell_type": "code",
      "execution_count": null,
      "metadata": {
        "colab": {
          "base_uri": "https://localhost:8080/"
        },
        "id": "9KyRoQp0IWM8",
        "outputId": "bd812c7d-b3a6-4446-efa9-8ccf31c64a1e"
      },
      "outputs": [
        {
          "output_type": "stream",
          "name": "stdout",
          "text": [
            "PyRosetta-4 2022 [Rosetta PyRosetta4.MinSizeRel.python38.ubuntu 2022.49+release.201d7639f91f369d58b1adf514f3febaf6154c58 2022-12-07T16:15:33] retrieved from: http://www.pyrosetta.org\n",
            "(C) Copyright Rosetta Commons Member Institutions. Created in JHU by Sergey Lyskov and PyRosetta Team.\n",
            "core.init: Checking for fconfig files in pwd and ./rosetta/flags\n",
            "core.init: Rosetta version: PyRosetta4.MinSizeRel.python38.ubuntu r337 2022.49+release.201d7639f91 201d7639f91f369d58b1adf514f3febaf6154c58 http://www.pyrosetta.org 2022-12-07T16:15:33\n",
            "core.init: command: PyRosetta -ex1 -ex2aro -database /usr/local/lib/python3.8/dist-packages/pyrosetta/database\n",
            "basic.random.init_random_generator: 'RNG device' seed mode, using '/dev/urandom', seed=956799720 seed_offset=0 real_seed=956799720\n",
            "basic.random.init_random_generator: RandomGenerator:init: Normal mode, seed=956799720 RG_type=mt19937\n",
            "core.scoring.ScoreFunctionFactory: SCOREFUNCTION: ref2015\n",
            "A - energy: 1.3271969948449436, # atoms: 13\n",
            "R - energy: 102.3160570474678, # atoms: 27\n",
            "N - energy: 21.277811221643148, # atoms: 17\n",
            "D - energy: 22.591601075224595, # atoms: 15\n",
            "C - energy: 25.879464721440193, # atoms: 14\n",
            "Q - energy: 37.36774682895438, # atoms: 20\n",
            "E - energy: 38.71063815498503, # atoms: 18\n",
            "G - energy: 0.7983075202790909, # atoms: 10\n",
            "H - energy: 25.958469253918192, # atoms: 20\n",
            "I - energy: 43.980058457629774, # atoms: 22\n",
            "L - energy: 44.929432130300164, # atoms: 22\n",
            "K - energy: 43.83929786501412, # atoms: 25\n",
            "M - energy: 38.571701349515315, # atoms: 20\n",
            "F - energy: 38.030411886872976, # atoms: 23\n",
            "P - energy: -0.6249041425135933, # atoms: 19\n",
            "S - energy: 16.768555735893234, # atoms: 14\n",
            "T - energy: 39.365500665004205, # atoms: 17\n",
            "W - energy: 20.734292739532993, # atoms: 27\n",
            "Y - energy: 27.050567512229414, # atoms: 24\n",
            "V - energy: 16.871467049654573, # atoms: 19\n"
          ]
        }
      ],
      "source": [
        "pyrosetta.init()\n",
        "score_func = pyrosetta.get_score_function(True) # Used for scoring amino acids in pyRosetta\n",
        "energy_dict = {}\n",
        "atoms_dict = {}\n",
        "amino_acids = ['A', 'R', 'N', 'D', 'C', 'Q', 'E', 'G', 'H', 'I', 'L', 'K', 'M', 'F', 'P', 'S', 'T', 'W', 'Y', 'V'] # All amino acid abbreviations\n",
        "for aa in amino_acids: # For each amino acid, make two dictionary entries\n",
        "    pose = pose_from_sequence(str(aa), 'fa_standard') # making use of rosetta suite to help with chemistry calculations\n",
        "    energy_dict[aa] = score_func(pose) #total energy\n",
        "    atoms_dict[aa] = pose.total_atoms() #total number of atoms in the amino acid\n",
        "    print(str(aa) + \" - energy: \" + str(energy_dict[aa]) + \", # atoms: \" + str(atoms_dict[aa]))"
      ]
    },
    {
      "cell_type": "markdown",
      "metadata": {
        "id": "Qi8Sv6mjzdLU"
      },
      "source": [
        "## Grouping Sequences\n",
        "The train data contains thousands of sequences that are not grouped properly.\n",
        "To assign an original wildtype sequence to the training data, we will emply the use of the train wildtype groups csv file containing all wiltypes present in the training data. "
      ]
    },
    {
      "cell_type": "code",
      "execution_count": null,
      "metadata": {
        "colab": {
          "base_uri": "https://localhost:8080/"
        },
        "id": "c6IEGOY7y-zq",
        "outputId": "0c819a5b-71e5-4f45-9f46-4045ef60f483"
      },
      "outputs": [
        {
          "output_type": "stream",
          "name": "stdout",
          "text": [
            "Drive already mounted at /content/drive; to attempt to forcibly remount, call drive.mount(\"/content/drive\", force_remount=True).\n"
          ]
        },
        {
          "output_type": "execute_result",
          "data": {
            "text/plain": [
              "78"
            ]
          },
          "metadata": {},
          "execution_count": 126
        }
      ],
      "source": [
        "drive.mount('/content/drive')\n",
        "wildtype_groups = pd.read_csv(\"/content/drive/MyDrive/novozymes-enzyme-stability-prediction/train_wildtype_groups.csv\") #https://www.kaggle.com/datasets/shlomoron/train-wildtypes-af?select=train_wildtype_groups.csv \n",
        "wildtypes = wildtype_groups[\"wildtype\"].unique()\n",
        "len(wildtypes) # There are 78 unique wildtypes in the training data"
      ]
    },
    {
      "cell_type": "markdown",
      "metadata": {
        "id": "oOG5QMLCAJU-"
      },
      "source": [
        "To group each sequence into a wildtype group, we need to emply a string difference algorithm. We have chosen the levenshtein distance because we do not care about what place each character is in, just the amount of additions or deletions. The function 'group_wildtypes' takes a protein sequence from the data and assigns it an original wildtype from the 78 wildtypes present in the data. As long as the sequence is about as long as the wildtype (within 5 amino acids), and has a max of 20 mutations, it is a good candidate for the wildtype."
      ]
    },
    {
      "cell_type": "code",
      "execution_count": null,
      "metadata": {
        "colab": {
          "base_uri": "https://localhost:8080/"
        },
        "id": "cuuuClPR9OPS",
        "outputId": "94ec5e29-0740-4f50-aa12-4a245c2c6246"
      },
      "outputs": [
        {
          "output_type": "stream",
          "name": "stdout",
          "text": [
            "0.0     708\n",
            "1.0     273\n",
            "2.0     211\n",
            "3.0     194\n",
            "4.0     180\n",
            "       ... \n",
            "73.0      6\n",
            "75.0      6\n",
            "74.0      6\n",
            "76.0      6\n",
            "77.0      5\n",
            "Name: wildtype, Length: 77, dtype: int64\n"
          ]
        }
      ],
      "source": [
        "\n",
        "df[\"wildtype\"] = -1 \n",
        "\n",
        "def group_wildtypes(seq): #Imperative function for grouping a sequence to one of the 78 provided wild types\n",
        "  for idx in range(len(wildtypes)):\n",
        "    wt = wildtypes[idx]\n",
        "    ld = levenshtein_distance(wt, seq)\n",
        "    if ((len(seq) > (len(wt) - 6)) and (len(seq) < (len(wt) + 6))) and ld < 20:\n",
        "      return int(idx)\n",
        "      # Assign if and only if the sequence length is near the wildtype length,\n",
        "      # and total mutations are under 20 from the original wildtype\n",
        "      \n",
        "df[\"wildtype\"] = df[\"protein_sequence\"].apply(group_wildtypes) \n",
        "# run this function for every sequence to assign as many wildtypes as we can\n",
        "\n",
        "print(df[\"wildtype\"].value_counts())\n",
        "df.dropna(inplace=True)\n",
        "df['wildtype'] = df['wildtype'].apply(lambda x: int(x))\n"
      ]
    },
    {
      "cell_type": "markdown",
      "metadata": {
        "id": "X1ySit2yQMSV"
      },
      "source": [
        "### Energy Calculations\n",
        "Amino acid mutations can cause partial or total unfolding of a protein, which can cause disease states, and unfolding is also an indication of melting. So it is useful to predict which mutants can retain the conformation of a wild type protein, and which cannot. So, we used relative strain to relate to the risk of folding, which is the stability of the mutant relative to the wild type protein. \n",
        "\n",
        "Using the dictionaries for each amino acid and their energy and number of atoms, we will calculate the strain energy of each protein. The relative strain, S, in the mutant protein was computed as:\n",
        "#### (Emut/Nmut − Ewt/Nwt)/(Ewt/Nwt) = E¯mut/E¯wt − 1\n",
        "Nwt and Nmut are the number of atoms in the wild-type and mutant proteins, respectively. [Paper with equation](https://academic.oup.com/peds/article/14/7/479/1551044?login=true)\n",
        "\n",
        "In this imperative function, we assign each row a relative strain value as well as an energy value that represents the net gain in energy from the mutaiton."
      ]
    },
    {
      "cell_type": "code",
      "execution_count": null,
      "metadata": {
        "id": "xd0Kcaew4vyU"
      },
      "outputs": [],
      "source": [
        "def calc_energy(data, bool): \n",
        "  # bool = True for train data False for Test data\n",
        "  # data = dataframe\n",
        "  energy_changes = []\n",
        "  strains = []\n",
        "  for row in data.iterrows():\n",
        "    seq = row[1][\"protein_sequence\"]\n",
        "    wt = wildtypes[int(row[1][\"wildtype\"])] if bool else base\n",
        "    # For the test data, we already know the wild type so assign it base\n",
        "    flag1 = True\n",
        "    flag2 = False #setting up flags for logic to only get first mutation\n",
        "    count = 0\n",
        "    muts = []\n",
        "    wts = []\n",
        "    for i in range(min(len(wt), len(seq))):\n",
        "      if flag1 and (wt[i] != seq[i]): #If mutation (only first mutation strain)\n",
        "        count = count + 1\n",
        "        muts.append(seq[i])\n",
        "        wts.append(wt[i])\n",
        "        flag2 = True\n",
        "      else: \n",
        "        if flag2: #If we found first mutation strain, cut off the buffer\n",
        "          flag1 = False\n",
        "    energy_change = 0\n",
        "    strain_change = 0\n",
        "    for j in range(len(muts)): #For every amino acid in the mutation strain\n",
        "      emut = energy_dict[muts[j]] # get energy of mutation\n",
        "      ewt = energy_dict[wts[j]] # get energy of wild type\n",
        "      e_net = emut - ewt # net energy, store this as a feature\n",
        "      nmut = atoms_dict[muts[j]] # get number of atoms in mutation\n",
        "      nwt = atoms_dict[wts[j]] # get number of atoms in wild type\n",
        "      e_bar = (emut/nmut - ewt/nwt) / (ewt/nwt) # Formula from study\n",
        "      energy_change = energy_change + e_net\n",
        "      strain_change = strain_change + e_bar\n",
        "    energy_changes.append(energy_change)\n",
        "    strains.append(strain_change)\n",
        "  data[\"energy\"] = energy_changes\n",
        "  data[\"strain\"] = strains\n",
        "\n",
        "calc_energy(df, True)"
      ]
    },
    {
      "cell_type": "markdown",
      "source": [
        "Now lets add a feature for sequence length, so the machine can differentiate between wildtypes."
      ],
      "metadata": {
        "id": "HCRpKJN9Ucr5"
      }
    },
    {
      "cell_type": "code",
      "source": [
        "df[\"seq_length\"] = df[\"protein_sequence\"].apply(lambda x : len(x)) # get sequence length for every sequence"
      ],
      "metadata": {
        "id": "wyxM-LbyUkzs"
      },
      "execution_count": null,
      "outputs": []
    },
    {
      "cell_type": "markdown",
      "metadata": {
        "id": "L3WKcqgixsV_"
      },
      "source": [
        "Here we drop any protein that was not assigned a wildtype so that we dont have any missing data points wildtype column."
      ]
    },
    {
      "cell_type": "code",
      "execution_count": null,
      "metadata": {
        "colab": {
          "base_uri": "https://localhost:8080/",
          "height": 424
        },
        "id": "YgTMKjmrNc3M",
        "outputId": "f26902d0-a79b-4c78-f264-b543877b555d"
      },
      "outputs": [
        {
          "output_type": "execute_result",
          "data": {
            "text/plain": [
              "       seq_id                                   protein_sequence   pH    tm  \\\n",
              "252       266  AKGMSKMPQFNLRWPREVLDLVRKVAEENGRSVNSEIYQRVMESFK...  7.5  58.0   \n",
              "947       972  DTSGTVCLSALPPEATDTLNLIASDGPFPYSQDGVVFQNRESVLPT...  7.0  45.2   \n",
              "948       973  DTSGTVCLSALPPEATDTLNLIASDGPFPYSQDGVVFQNRESVLPT...  7.0  48.4   \n",
              "949       974  DTSGTVCLSALPPEATDTLNLIASDGPFPYSQDGVVFQNRESVLPT...  7.0  48.0   \n",
              "956       982  DVSGTVCLSALPPEATDTLNLIASDGPFPYSQAGVVFQNRESVLPT...  7.0  31.8   \n",
              "...       ...                                                ...  ...   ...   \n",
              "28193   30597  SSCPGKSSWPHLVGVGGSVAKAIIERQNPNVKAVILEEGTPVAKDF...  2.5  71.7   \n",
              "28194   30598  SSCPGKSSWPHLVGVGGSVAKAIIERQNPNVKAVILEEGTPVTKDF...  2.5  62.6   \n",
              "28195   30599  SSCPGKSSWPHLVGVGGSVAKAIIERQNPNVKAVILEEGTPVTKDF...  2.5  59.2   \n",
              "28196   30600  SSCPGKSSWPHLVGVGGSVAKAIIERQNPNVKAVILEEGTPVTKDF...  2.5  65.7   \n",
              "28197   30601  SSCPGKSSWPHLVGVGGSVAKAIIERQNPNVKAVILEEGTPVTKDF...  2.5  67.5   \n",
              "\n",
              "       wildtype      energy    strain  seq_length  \n",
              "252          25  -37.244504 -0.947064          53  \n",
              "947           8   22.494034  1.607760          96  \n",
              "948           8   22.494034  1.607760          96  \n",
              "949           8   22.494034  1.607760          96  \n",
              "956           8  -21.264404 -0.932215          96  \n",
              "...         ...         ...       ...         ...  \n",
              "28193        76  -38.038304 -0.955912          68  \n",
              "28194        76 -100.988860 -0.973059          68  \n",
              "28195        76  -58.476759 -0.537253          68  \n",
              "28196        76 -100.988860 -0.973059          68  \n",
              "28197        76  -64.948310 -0.506955          68  \n",
              "\n",
              "[3935 rows x 8 columns]"
            ],
            "text/html": [
              "\n",
              "  <div id=\"df-e658c4f5-fbb4-4019-9c7f-df53017a2fca\">\n",
              "    <div class=\"colab-df-container\">\n",
              "      <div>\n",
              "<style scoped>\n",
              "    .dataframe tbody tr th:only-of-type {\n",
              "        vertical-align: middle;\n",
              "    }\n",
              "\n",
              "    .dataframe tbody tr th {\n",
              "        vertical-align: top;\n",
              "    }\n",
              "\n",
              "    .dataframe thead th {\n",
              "        text-align: right;\n",
              "    }\n",
              "</style>\n",
              "<table border=\"1\" class=\"dataframe\">\n",
              "  <thead>\n",
              "    <tr style=\"text-align: right;\">\n",
              "      <th></th>\n",
              "      <th>seq_id</th>\n",
              "      <th>protein_sequence</th>\n",
              "      <th>pH</th>\n",
              "      <th>tm</th>\n",
              "      <th>wildtype</th>\n",
              "      <th>energy</th>\n",
              "      <th>strain</th>\n",
              "      <th>seq_length</th>\n",
              "    </tr>\n",
              "  </thead>\n",
              "  <tbody>\n",
              "    <tr>\n",
              "      <th>252</th>\n",
              "      <td>266</td>\n",
              "      <td>AKGMSKMPQFNLRWPREVLDLVRKVAEENGRSVNSEIYQRVMESFK...</td>\n",
              "      <td>7.5</td>\n",
              "      <td>58.0</td>\n",
              "      <td>25</td>\n",
              "      <td>-37.244504</td>\n",
              "      <td>-0.947064</td>\n",
              "      <td>53</td>\n",
              "    </tr>\n",
              "    <tr>\n",
              "      <th>947</th>\n",
              "      <td>972</td>\n",
              "      <td>DTSGTVCLSALPPEATDTLNLIASDGPFPYSQDGVVFQNRESVLPT...</td>\n",
              "      <td>7.0</td>\n",
              "      <td>45.2</td>\n",
              "      <td>8</td>\n",
              "      <td>22.494034</td>\n",
              "      <td>1.607760</td>\n",
              "      <td>96</td>\n",
              "    </tr>\n",
              "    <tr>\n",
              "      <th>948</th>\n",
              "      <td>973</td>\n",
              "      <td>DTSGTVCLSALPPEATDTLNLIASDGPFPYSQDGVVFQNRESVLPT...</td>\n",
              "      <td>7.0</td>\n",
              "      <td>48.4</td>\n",
              "      <td>8</td>\n",
              "      <td>22.494034</td>\n",
              "      <td>1.607760</td>\n",
              "      <td>96</td>\n",
              "    </tr>\n",
              "    <tr>\n",
              "      <th>949</th>\n",
              "      <td>974</td>\n",
              "      <td>DTSGTVCLSALPPEATDTLNLIASDGPFPYSQDGVVFQNRESVLPT...</td>\n",
              "      <td>7.0</td>\n",
              "      <td>48.0</td>\n",
              "      <td>8</td>\n",
              "      <td>22.494034</td>\n",
              "      <td>1.607760</td>\n",
              "      <td>96</td>\n",
              "    </tr>\n",
              "    <tr>\n",
              "      <th>956</th>\n",
              "      <td>982</td>\n",
              "      <td>DVSGTVCLSALPPEATDTLNLIASDGPFPYSQAGVVFQNRESVLPT...</td>\n",
              "      <td>7.0</td>\n",
              "      <td>31.8</td>\n",
              "      <td>8</td>\n",
              "      <td>-21.264404</td>\n",
              "      <td>-0.932215</td>\n",
              "      <td>96</td>\n",
              "    </tr>\n",
              "    <tr>\n",
              "      <th>...</th>\n",
              "      <td>...</td>\n",
              "      <td>...</td>\n",
              "      <td>...</td>\n",
              "      <td>...</td>\n",
              "      <td>...</td>\n",
              "      <td>...</td>\n",
              "      <td>...</td>\n",
              "      <td>...</td>\n",
              "    </tr>\n",
              "    <tr>\n",
              "      <th>28193</th>\n",
              "      <td>30597</td>\n",
              "      <td>SSCPGKSSWPHLVGVGGSVAKAIIERQNPNVKAVILEEGTPVAKDF...</td>\n",
              "      <td>2.5</td>\n",
              "      <td>71.7</td>\n",
              "      <td>76</td>\n",
              "      <td>-38.038304</td>\n",
              "      <td>-0.955912</td>\n",
              "      <td>68</td>\n",
              "    </tr>\n",
              "    <tr>\n",
              "      <th>28194</th>\n",
              "      <td>30598</td>\n",
              "      <td>SSCPGKSSWPHLVGVGGSVAKAIIERQNPNVKAVILEEGTPVTKDF...</td>\n",
              "      <td>2.5</td>\n",
              "      <td>62.6</td>\n",
              "      <td>76</td>\n",
              "      <td>-100.988860</td>\n",
              "      <td>-0.973059</td>\n",
              "      <td>68</td>\n",
              "    </tr>\n",
              "    <tr>\n",
              "      <th>28195</th>\n",
              "      <td>30599</td>\n",
              "      <td>SSCPGKSSWPHLVGVGGSVAKAIIERQNPNVKAVILEEGTPVTKDF...</td>\n",
              "      <td>2.5</td>\n",
              "      <td>59.2</td>\n",
              "      <td>76</td>\n",
              "      <td>-58.476759</td>\n",
              "      <td>-0.537253</td>\n",
              "      <td>68</td>\n",
              "    </tr>\n",
              "    <tr>\n",
              "      <th>28196</th>\n",
              "      <td>30600</td>\n",
              "      <td>SSCPGKSSWPHLVGVGGSVAKAIIERQNPNVKAVILEEGTPVTKDF...</td>\n",
              "      <td>2.5</td>\n",
              "      <td>65.7</td>\n",
              "      <td>76</td>\n",
              "      <td>-100.988860</td>\n",
              "      <td>-0.973059</td>\n",
              "      <td>68</td>\n",
              "    </tr>\n",
              "    <tr>\n",
              "      <th>28197</th>\n",
              "      <td>30601</td>\n",
              "      <td>SSCPGKSSWPHLVGVGGSVAKAIIERQNPNVKAVILEEGTPVTKDF...</td>\n",
              "      <td>2.5</td>\n",
              "      <td>67.5</td>\n",
              "      <td>76</td>\n",
              "      <td>-64.948310</td>\n",
              "      <td>-0.506955</td>\n",
              "      <td>68</td>\n",
              "    </tr>\n",
              "  </tbody>\n",
              "</table>\n",
              "<p>3935 rows × 8 columns</p>\n",
              "</div>\n",
              "      <button class=\"colab-df-convert\" onclick=\"convertToInteractive('df-e658c4f5-fbb4-4019-9c7f-df53017a2fca')\"\n",
              "              title=\"Convert this dataframe to an interactive table.\"\n",
              "              style=\"display:none;\">\n",
              "        \n",
              "  <svg xmlns=\"http://www.w3.org/2000/svg\" height=\"24px\"viewBox=\"0 0 24 24\"\n",
              "       width=\"24px\">\n",
              "    <path d=\"M0 0h24v24H0V0z\" fill=\"none\"/>\n",
              "    <path d=\"M18.56 5.44l.94 2.06.94-2.06 2.06-.94-2.06-.94-.94-2.06-.94 2.06-2.06.94zm-11 1L8.5 8.5l.94-2.06 2.06-.94-2.06-.94L8.5 2.5l-.94 2.06-2.06.94zm10 10l.94 2.06.94-2.06 2.06-.94-2.06-.94-.94-2.06-.94 2.06-2.06.94z\"/><path d=\"M17.41 7.96l-1.37-1.37c-.4-.4-.92-.59-1.43-.59-.52 0-1.04.2-1.43.59L10.3 9.45l-7.72 7.72c-.78.78-.78 2.05 0 2.83L4 21.41c.39.39.9.59 1.41.59.51 0 1.02-.2 1.41-.59l7.78-7.78 2.81-2.81c.8-.78.8-2.07 0-2.86zM5.41 20L4 18.59l7.72-7.72 1.47 1.35L5.41 20z\"/>\n",
              "  </svg>\n",
              "      </button>\n",
              "      \n",
              "  <style>\n",
              "    .colab-df-container {\n",
              "      display:flex;\n",
              "      flex-wrap:wrap;\n",
              "      gap: 12px;\n",
              "    }\n",
              "\n",
              "    .colab-df-convert {\n",
              "      background-color: #E8F0FE;\n",
              "      border: none;\n",
              "      border-radius: 50%;\n",
              "      cursor: pointer;\n",
              "      display: none;\n",
              "      fill: #1967D2;\n",
              "      height: 32px;\n",
              "      padding: 0 0 0 0;\n",
              "      width: 32px;\n",
              "    }\n",
              "\n",
              "    .colab-df-convert:hover {\n",
              "      background-color: #E2EBFA;\n",
              "      box-shadow: 0px 1px 2px rgba(60, 64, 67, 0.3), 0px 1px 3px 1px rgba(60, 64, 67, 0.15);\n",
              "      fill: #174EA6;\n",
              "    }\n",
              "\n",
              "    [theme=dark] .colab-df-convert {\n",
              "      background-color: #3B4455;\n",
              "      fill: #D2E3FC;\n",
              "    }\n",
              "\n",
              "    [theme=dark] .colab-df-convert:hover {\n",
              "      background-color: #434B5C;\n",
              "      box-shadow: 0px 1px 3px 1px rgba(0, 0, 0, 0.15);\n",
              "      filter: drop-shadow(0px 1px 2px rgba(0, 0, 0, 0.3));\n",
              "      fill: #FFFFFF;\n",
              "    }\n",
              "  </style>\n",
              "\n",
              "      <script>\n",
              "        const buttonEl =\n",
              "          document.querySelector('#df-e658c4f5-fbb4-4019-9c7f-df53017a2fca button.colab-df-convert');\n",
              "        buttonEl.style.display =\n",
              "          google.colab.kernel.accessAllowed ? 'block' : 'none';\n",
              "\n",
              "        async function convertToInteractive(key) {\n",
              "          const element = document.querySelector('#df-e658c4f5-fbb4-4019-9c7f-df53017a2fca');\n",
              "          const dataTable =\n",
              "            await google.colab.kernel.invokeFunction('convertToInteractive',\n",
              "                                                     [key], {});\n",
              "          if (!dataTable) return;\n",
              "\n",
              "          const docLinkHtml = 'Like what you see? Visit the ' +\n",
              "            '<a target=\"_blank\" href=https://colab.research.google.com/notebooks/data_table.ipynb>data table notebook</a>'\n",
              "            + ' to learn more about interactive tables.';\n",
              "          element.innerHTML = '';\n",
              "          dataTable['output_type'] = 'display_data';\n",
              "          await google.colab.output.renderOutput(dataTable, element);\n",
              "          const docLink = document.createElement('div');\n",
              "          docLink.innerHTML = docLinkHtml;\n",
              "          element.appendChild(docLink);\n",
              "        }\n",
              "      </script>\n",
              "    </div>\n",
              "  </div>\n",
              "  "
            ]
          },
          "metadata": {},
          "execution_count": 130
        }
      ],
      "source": [
        "df = df[df[\"wildtype\"] != -1]\n",
        "df"
      ]
    },
    {
      "cell_type": "markdown",
      "metadata": {
        "id": "BDNpcxs1y2zy"
      },
      "source": [
        "Here we have to drop missing values so that we can run our machine learning algorithm and we also have to drop the columns that we won't be using as features."
      ]
    },
    {
      "cell_type": "code",
      "execution_count": null,
      "metadata": {
        "id": "Iz4tKMgdh_PQ"
      },
      "outputs": [],
      "source": [
        "df.dropna(axis=0,how='any',inplace=True)\n",
        "copy_df = df.copy(\"deep\")\n",
        "df.drop(['seq_id','protein_sequence'], axis=1, inplace=True)"
      ]
    },
    {
      "cell_type": "markdown",
      "metadata": {
        "id": "Jo2M-orYzb7G"
      },
      "source": [
        "## Exploratory Data Analysis\n",
        "\n",
        "Here we make a heat map to look at the correlation between different variables."
      ]
    },
    {
      "cell_type": "code",
      "execution_count": null,
      "metadata": {
        "colab": {
          "base_uri": "https://localhost:8080/",
          "height": 299
        },
        "id": "NmzfmQ0mh_PR",
        "outputId": "ee09512a-70b0-43ce-deff-3c8c22bc0c06"
      },
      "outputs": [
        {
          "output_type": "execute_result",
          "data": {
            "text/plain": [
              "[Text(0.5, 1.0, 'Covariance Matrix')]"
            ]
          },
          "metadata": {},
          "execution_count": 132
        },
        {
          "output_type": "display_data",
          "data": {
            "text/plain": [
              "<Figure size 432x288 with 2 Axes>"
            ],
            "image/png": "[encoded data removed]"
          },
          "metadata": {
            "needs_background": "light"
          }
        }
      ],
      "source": [
        "sns.heatmap(df.drop([\"wildtype\"], axis = 1).corr(), \n",
        "            cmap=\"YlOrBr\", robust = True, annot = True, vmin = -.1).set(title = \"Covariance Matrix\")"
      ]
    },
    {
      "cell_type": "markdown",
      "source": [
        "And another heatmap for a specific wildtype. It is apparent that the correlation between features and the metling point depends on the wildtype."
      ],
      "metadata": {
        "id": "G1jKm2_rNX63"
      }
    },
    {
      "cell_type": "code",
      "source": [
        "sns.heatmap(df[df[\"wildtype\"] == 9].drop([\"wildtype\", \"seq_length\"], \n",
        "            axis = 1).corr(), cmap=\"YlOrBr\", robust = True, annot = True, vmin = -.1).set(title = \"Covariance Matrix\")"
      ],
      "metadata": {
        "colab": {
          "base_uri": "https://localhost:8080/",
          "height": 298
        },
        "id": "YQTKyhnwNh-4",
        "outputId": "afb783a5-666f-4ffb-96d2-9ee164d0a65c"
      },
      "execution_count": null,
      "outputs": [
        {
          "output_type": "execute_result",
          "data": {
            "text/plain": [
              "[Text(0.5, 1.0, 'Covariance Matrix')]"
            ]
          },
          "metadata": {},
          "execution_count": 133
        },
        {
          "output_type": "display_data",
          "data": {
            "text/plain": [
              "<Figure size 432x288 with 2 Axes>"
            ],
            "image/png": "[encoded data removed]"
          },
          "metadata": {
            "needs_background": "light"
          }
        }
      ]
    },
    {
      "cell_type": "markdown",
      "metadata": {
        "id": "UaD3NwE20aM1"
      },
      "source": [
        "## Machine Learning\n",
        "\n",
        "Here we perform our train test split so that we can see how our regression performs later."
      ]
    },
    {
      "cell_type": "code",
      "execution_count": null,
      "metadata": {
        "id": "71oUPr1Kh_PR"
      },
      "outputs": [],
      "source": [
        "x=df.drop(['wildtype', 'tm'],axis=1)\n",
        "y=df['tm']\n",
        "x_train,x_test,y_train,y_test=train_test_split(x,y,test_size=0.20)"
      ]
    },
    {
      "cell_type": "markdown",
      "metadata": {
        "id": "W1QTPvWE0td1"
      },
      "source": [
        "Here we initialize the random forest regressor and then print out the parameters to decide which parameters to test in our grid search. We chose to train a Random Forest Regressor for 3 main reasons\n",
        "* Our target variable, melting point (tm), is continuous data, so we need a regression model instead of a classification model\n",
        "* Has many meta parameters that can be used to prevent overfitting and increase accuracy\n",
        "* Random Forests can handle large data sets efficiently\n"
      ]
    },
    {
      "cell_type": "code",
      "execution_count": null,
      "metadata": {
        "id": "dDrFWtukh_PS",
        "colab": {
          "base_uri": "https://localhost:8080/"
        },
        "outputId": "81266ccf-68c7-4e5c-8c55-77f31782ca6d"
      },
      "outputs": [
        {
          "output_type": "stream",
          "name": "stdout",
          "text": [
            "{'bootstrap': True, 'ccp_alpha': 0.0, 'criterion': 'squared_error', 'max_depth': None, 'max_features': 'auto', 'max_leaf_nodes': None, 'max_samples': None, 'min_impurity_decrease': 0.0, 'min_samples_leaf': 1, 'min_samples_split': 2, 'min_weight_fraction_leaf': 0.0, 'n_estimators': 100, 'n_jobs': None, 'oob_score': False, 'random_state': None, 'verbose': 0, 'warm_start': False}\n"
          ]
        }
      ],
      "source": [
        "\n",
        "rf = RandomForestRegressor()\n",
        "print(rf.get_params())"
      ]
    },
    {
      "cell_type": "markdown",
      "metadata": {
        "id": "przl98Zs1Sp8"
      },
      "source": [
        "Here we decide our parameters for our grid search."
      ]
    },
    {
      "cell_type": "code",
      "execution_count": null,
      "metadata": {
        "id": "HgA_Bubth_PS"
      },
      "outputs": [],
      "source": [
        "grid = {'max_depth':list(np.arange(1, 20, step=2)),\n",
        "              'n_estimators':np.arange(10, 500, step=50),\n",
        "              'max_features':np.arange(1,5, step=1),\n",
        "              'min_samples_leaf':np.arange(1,6, step=1),\n",
        "              'min_samples_split':np.arange(2, 12, step=2)\n",
        "         } # grid search for best parameters "
      ]
    },
    {
      "cell_type": "markdown",
      "metadata": {
        "id": "1pzne9mK1Yoq"
      },
      "source": [
        "We run our grid search with 10 fold cross validation. We use r^2 for our scoring."
      ]
    },
    {
      "cell_type": "code",
      "execution_count": null,
      "metadata": {
        "id": "g3tSG1zqh_PS"
      },
      "outputs": [],
      "source": [
        "grid_search = RandomizedSearchCV(estimator=rf, param_distributions=grid, \n",
        "                              n_jobs = -1,\n",
        "                              scoring='r2', \n",
        "                              cv = 10, verbose=2,\n",
        "                              return_train_score=True)"
      ]
    },
    {
      "cell_type": "markdown",
      "metadata": {
        "id": "P_M_rk043KPs"
      },
      "source": [
        "Here we fit our model with our training data."
      ]
    },
    {
      "cell_type": "code",
      "execution_count": null,
      "metadata": {
        "id": "JL7MrVKYh_PT",
        "colab": {
          "base_uri": "https://localhost:8080/"
        },
        "outputId": "18b26051-3e60-46d4-d592-e282ad4d3bc5"
      },
      "outputs": [
        {
          "output_type": "stream",
          "name": "stdout",
          "text": [
            "Fitting 10 folds for each of 10 candidates, totalling 100 fits\n"
          ]
        },
        {
          "output_type": "execute_result",
          "data": {
            "text/plain": [
              "RandomizedSearchCV(cv=10, estimator=RandomForestRegressor(), n_jobs=-1,\n",
              "                   param_distributions={'max_depth': [1, 3, 5, 7, 9, 11, 13, 15,\n",
              "                                                      17, 19],\n",
              "                                        'max_features': array([1, 2, 3, 4]),\n",
              "                                        'min_samples_leaf': array([1, 2, 3, 4, 5]),\n",
              "                                        'min_samples_split': array([ 2,  4,  6,  8, 10]),\n",
              "                                        'n_estimators': array([ 10,  60, 110, 160, 210, 260, 310, 360, 410, 460])},\n",
              "                   return_train_score=True, scoring='r2', verbose=2)"
            ]
          },
          "metadata": {},
          "execution_count": 138
        }
      ],
      "source": [
        "grid_search.fit(x_train,y_train) # Train regression model"
      ]
    },
    {
      "cell_type": "markdown",
      "metadata": {
        "id": "kBNG0lIj3Okj"
      },
      "source": [
        "Here we read in our test dataset and then perform the distance and energy calculations on it in order to predict the melting points. We then saved the prediction in the submission dataframe and saved it as a csv to submit for the competition. The competition will calculate our score."
      ]
    },
    {
      "cell_type": "code",
      "execution_count": null,
      "metadata": {
        "id": "fejvp334h_PT",
        "colab": {
          "base_uri": "https://localhost:8080/"
        },
        "outputId": "9cb1f769-e499-4a75-f9c0-b7c14a1e5004"
      },
      "outputs": [
        {
          "output_type": "stream",
          "name": "stdout",
          "text": [
            "   seq_id         tm\n",
            "0   31390  39.401292\n",
            "1   31391  39.401292\n",
            "2   31392  39.401292\n",
            "3   31393  39.401292\n",
            "4   31394  39.401292\n"
          ]
        },
        {
          "output_type": "stream",
          "name": "stderr",
          "text": [
            "/usr/local/lib/python3.8/dist-packages/sklearn/base.py:493: FutureWarning: The feature names should match those that were passed during fit. Starting version 1.2, an error will be raised.\n",
            "Feature names must be in the same order as they were in fit.\n",
            "\n",
            "  warnings.warn(message, FutureWarning)\n"
          ]
        }
      ],
      "source": [
        "test_df = pd.read_csv('/content/drive/MyDrive/novozymes-enzyme-stability-prediction/test.csv')\n",
        "submission = pd.DataFrame()\n",
        "submission['seq_id'] = test_df['seq_id']\n",
        "test_df[\"seq_length\"] = test_df[\"protein_sequence\"].apply(lambda x: len(x))\n",
        "calc_energy(test_df, False)\n",
        "test_df.drop(columns=['seq_id','protein_sequence', 'data_source'], axis=1, inplace=True)\n",
        "#Now that we have created the same features for the test data, \n",
        "submission['tm'] = grid_search.predict(test_df) # Use the model to predict it\n",
        "submission.to_csv('submission.csv',index=False)\n",
        "print(submission.head(5))"
      ]
    },
    {
      "cell_type": "code",
      "source": [
        "submission[\"tm\"].unique() # Make sure we have unique values (mutations can be very similar)"
      ],
      "metadata": {
        "colab": {
          "base_uri": "https://localhost:8080/"
        },
        "id": "NFbaGCYg62Cc",
        "outputId": "62a75063-63b3-4be8-bac3-dc870c607445"
      },
      "execution_count": null,
      "outputs": [
        {
          "output_type": "execute_result",
          "data": {
            "text/plain": [
              "array([39.40129202, 39.79708327, 38.93019354, 39.87624994, 40.06099994,\n",
              "       39.63208327])"
            ]
          },
          "metadata": {},
          "execution_count": 140
        }
      ]
    },
    {
      "cell_type": "markdown",
      "metadata": {
        "id": "PvGYHxck3nPR"
      },
      "source": [
        "Here we run our prediciton on the test data from our split and then print out the resulting spearmanr correlation coefficient. Our score is 0.838, which is a decent score. This spearman correlation coefficient had a P-value of 4 x 10 ^ -209, which is extremely close to zero indicating the statistical significance of our regression model at a high confidence."
      ]
    },
    {
      "cell_type": "code",
      "execution_count": null,
      "metadata": {
        "id": "-w8H8F9wh_PU",
        "colab": {
          "base_uri": "https://localhost:8080/"
        },
        "outputId": "93da00d5-f855-424e-91cf-641e3ecd9655"
      },
      "outputs": [
        {
          "output_type": "execute_result",
          "data": {
            "text/plain": [
              "SpearmanrResult(correlation=0.8303855210407611, pvalue=1.4027993689645268e-201)"
            ]
          },
          "metadata": {},
          "execution_count": 141
        }
      ],
      "source": [
        "pred = grid_search.predict(x_test) #How did we do on split train data?\n",
        "stats.spearmanr(y_test, pred)"
      ]
    },
    {
      "cell_type": "markdown",
      "source": [
        "###Residuals\n",
        "Plot of average residuals across each wildtype"
      ],
      "metadata": {
        "id": "_-aWRY6FWqkZ"
      }
    },
    {
      "cell_type": "code",
      "source": [
        "x_test[\"Predictions\"] = pred\n",
        "x_test[\"Actual\"] = y_test\n",
        "x_test"
      ],
      "metadata": {
        "colab": {
          "base_uri": "https://localhost:8080/",
          "height": 424
        },
        "id": "GttxlwO71Vip",
        "outputId": "5b398763-7275-4c5a-fe58-6c9d67740d3b"
      },
      "execution_count": null,
      "outputs": [
        {
          "output_type": "execute_result",
          "data": {
            "text/plain": [
              "        pH     energy     strain  seq_length  Predictions  Actual\n",
              "12984  7.5 -15.441359  -0.914764          53    49.603170    63.4\n",
              "15543  7.0  22.494034   1.607760         231    48.455632    42.6\n",
              "957    7.0 -21.264404  -0.932215          96    46.871756    52.6\n",
              "14750  3.2  24.631272  11.713263         155    49.689171    41.2\n",
              "14729  3.0  -1.313790  -0.168959         155    49.983247    48.8\n",
              "...    ...        ...        ...         ...          ...     ...\n",
              "17321  7.0 -15.441359  -0.914764         296    51.901007    56.0\n",
              "10452  8.0   0.949374   0.021586         537    73.495872    72.9\n",
              "16942  5.4  37.244504  17.890644         164    62.166630    60.1\n",
              "17643  8.0 -26.504369  -1.017792         455    61.261666    62.0\n",
              "8844   5.2 -12.314933  -0.513259         448    57.762502    68.7\n",
              "\n",
              "[787 rows x 6 columns]"
            ],
            "text/html": [
              "\n",
              "  <div id=\"df-3324a931-1f16-435e-82fb-5f63c3590708\">\n",
              "    <div class=\"colab-df-container\">\n",
              "      <div>\n",
              "<style scoped>\n",
              "    .dataframe tbody tr th:only-of-type {\n",
              "        vertical-align: middle;\n",
              "    }\n",
              "\n",
              "    .dataframe tbody tr th {\n",
              "        vertical-align: top;\n",
              "    }\n",
              "\n",
              "    .dataframe thead th {\n",
              "        text-align: right;\n",
              "    }\n",
              "</style>\n",
              "<table border=\"1\" class=\"dataframe\">\n",
              "  <thead>\n",
              "    <tr style=\"text-align: right;\">\n",
              "      <th></th>\n",
              "      <th>pH</th>\n",
              "      <th>energy</th>\n",
              "      <th>strain</th>\n",
              "      <th>seq_length</th>\n",
              "      <th>Predictions</th>\n",
              "      <th>Actual</th>\n",
              "    </tr>\n",
              "  </thead>\n",
              "  <tbody>\n",
              "    <tr>\n",
              "      <th>12984</th>\n",
              "      <td>7.5</td>\n",
              "      <td>-15.441359</td>\n",
              "      <td>-0.914764</td>\n",
              "      <td>53</td>\n",
              "      <td>49.603170</td>\n",
              "      <td>63.4</td>\n",
              "    </tr>\n",
              "    <tr>\n",
              "      <th>15543</th>\n",
              "      <td>7.0</td>\n",
              "      <td>22.494034</td>\n",
              "      <td>1.607760</td>\n",
              "      <td>231</td>\n",
              "      <td>48.455632</td>\n",
              "      <td>42.6</td>\n",
              "    </tr>\n",
              "    <tr>\n",
              "      <th>957</th>\n",
              "      <td>7.0</td>\n",
              "      <td>-21.264404</td>\n",
              "      <td>-0.932215</td>\n",
              "      <td>96</td>\n",
              "      <td>46.871756</td>\n",
              "      <td>52.6</td>\n",
              "    </tr>\n",
              "    <tr>\n",
              "      <th>14750</th>\n",
              "      <td>3.2</td>\n",
              "      <td>24.631272</td>\n",
              "      <td>11.713263</td>\n",
              "      <td>155</td>\n",
              "      <td>49.689171</td>\n",
              "      <td>41.2</td>\n",
              "    </tr>\n",
              "    <tr>\n",
              "      <th>14729</th>\n",
              "      <td>3.0</td>\n",
              "      <td>-1.313790</td>\n",
              "      <td>-0.168959</td>\n",
              "      <td>155</td>\n",
              "      <td>49.983247</td>\n",
              "      <td>48.8</td>\n",
              "    </tr>\n",
              "    <tr>\n",
              "      <th>...</th>\n",
              "      <td>...</td>\n",
              "      <td>...</td>\n",
              "      <td>...</td>\n",
              "      <td>...</td>\n",
              "      <td>...</td>\n",
              "      <td>...</td>\n",
              "    </tr>\n",
              "    <tr>\n",
              "      <th>17321</th>\n",
              "      <td>7.0</td>\n",
              "      <td>-15.441359</td>\n",
              "      <td>-0.914764</td>\n",
              "      <td>296</td>\n",
              "      <td>51.901007</td>\n",
              "      <td>56.0</td>\n",
              "    </tr>\n",
              "    <tr>\n",
              "      <th>10452</th>\n",
              "      <td>8.0</td>\n",
              "      <td>0.949374</td>\n",
              "      <td>0.021586</td>\n",
              "      <td>537</td>\n",
              "      <td>73.495872</td>\n",
              "      <td>72.9</td>\n",
              "    </tr>\n",
              "    <tr>\n",
              "      <th>16942</th>\n",
              "      <td>5.4</td>\n",
              "      <td>37.244504</td>\n",
              "      <td>17.890644</td>\n",
              "      <td>164</td>\n",
              "      <td>62.166630</td>\n",
              "      <td>60.1</td>\n",
              "    </tr>\n",
              "    <tr>\n",
              "      <th>17643</th>\n",
              "      <td>8.0</td>\n",
              "      <td>-26.504369</td>\n",
              "      <td>-1.017792</td>\n",
              "      <td>455</td>\n",
              "      <td>61.261666</td>\n",
              "      <td>62.0</td>\n",
              "    </tr>\n",
              "    <tr>\n",
              "      <th>8844</th>\n",
              "      <td>5.2</td>\n",
              "      <td>-12.314933</td>\n",
              "      <td>-0.513259</td>\n",
              "      <td>448</td>\n",
              "      <td>57.762502</td>\n",
              "      <td>68.7</td>\n",
              "    </tr>\n",
              "  </tbody>\n",
              "</table>\n",
              "<p>787 rows × 6 columns</p>\n",
              "</div>\n",
              "      <button class=\"colab-df-convert\" onclick=\"convertToInteractive('df-3324a931-1f16-435e-82fb-5f63c3590708')\"\n",
              "              title=\"Convert this dataframe to an interactive table.\"\n",
              "              style=\"display:none;\">\n",
              "        \n",
              "  <svg xmlns=\"http://www.w3.org/2000/svg\" height=\"24px\"viewBox=\"0 0 24 24\"\n",
              "       width=\"24px\">\n",
              "    <path d=\"M0 0h24v24H0V0z\" fill=\"none\"/>\n",
              "    <path d=\"M18.56 5.44l.94 2.06.94-2.06 2.06-.94-2.06-.94-.94-2.06-.94 2.06-2.06.94zm-11 1L8.5 8.5l.94-2.06 2.06-.94-2.06-.94L8.5 2.5l-.94 2.06-2.06.94zm10 10l.94 2.06.94-2.06 2.06-.94-2.06-.94-.94-2.06-.94 2.06-2.06.94z\"/><path d=\"M17.41 7.96l-1.37-1.37c-.4-.4-.92-.59-1.43-.59-.52 0-1.04.2-1.43.59L10.3 9.45l-7.72 7.72c-.78.78-.78 2.05 0 2.83L4 21.41c.39.39.9.59 1.41.59.51 0 1.02-.2 1.41-.59l7.78-7.78 2.81-2.81c.8-.78.8-2.07 0-2.86zM5.41 20L4 18.59l7.72-7.72 1.47 1.35L5.41 20z\"/>\n",
              "  </svg>\n",
              "      </button>\n",
              "      \n",
              "  <style>\n",
              "    .colab-df-container {\n",
              "      display:flex;\n",
              "      flex-wrap:wrap;\n",
              "      gap: 12px;\n",
              "    }\n",
              "\n",
              "    .colab-df-convert {\n",
              "      background-color: #E8F0FE;\n",
              "      border: none;\n",
              "      border-radius: 50%;\n",
              "      cursor: pointer;\n",
              "      display: none;\n",
              "      fill: #1967D2;\n",
              "      height: 32px;\n",
              "      padding: 0 0 0 0;\n",
              "      width: 32px;\n",
              "    }\n",
              "\n",
              "    .colab-df-convert:hover {\n",
              "      background-color: #E2EBFA;\n",
              "      box-shadow: 0px 1px 2px rgba(60, 64, 67, 0.3), 0px 1px 3px 1px rgba(60, 64, 67, 0.15);\n",
              "      fill: #174EA6;\n",
              "    }\n",
              "\n",
              "    [theme=dark] .colab-df-convert {\n",
              "      background-color: #3B4455;\n",
              "      fill: #D2E3FC;\n",
              "    }\n",
              "\n",
              "    [theme=dark] .colab-df-convert:hover {\n",
              "      background-color: #434B5C;\n",
              "      box-shadow: 0px 1px 3px 1px rgba(0, 0, 0, 0.15);\n",
              "      filter: drop-shadow(0px 1px 2px rgba(0, 0, 0, 0.3));\n",
              "      fill: #FFFFFF;\n",
              "    }\n",
              "  </style>\n",
              "\n",
              "      <script>\n",
              "        const buttonEl =\n",
              "          document.querySelector('#df-3324a931-1f16-435e-82fb-5f63c3590708 button.colab-df-convert');\n",
              "        buttonEl.style.display =\n",
              "          google.colab.kernel.accessAllowed ? 'block' : 'none';\n",
              "\n",
              "        async function convertToInteractive(key) {\n",
              "          const element = document.querySelector('#df-3324a931-1f16-435e-82fb-5f63c3590708');\n",
              "          const dataTable =\n",
              "            await google.colab.kernel.invokeFunction('convertToInteractive',\n",
              "                                                     [key], {});\n",
              "          if (!dataTable) return;\n",
              "\n",
              "          const docLinkHtml = 'Like what you see? Visit the ' +\n",
              "            '<a target=\"_blank\" href=https://colab.research.google.com/notebooks/data_table.ipynb>data table notebook</a>'\n",
              "            + ' to learn more about interactive tables.';\n",
              "          element.innerHTML = '';\n",
              "          dataTable['output_type'] = 'display_data';\n",
              "          await google.colab.output.renderOutput(dataTable, element);\n",
              "          const docLink = document.createElement('div');\n",
              "          docLink.innerHTML = docLinkHtml;\n",
              "          element.appendChild(docLink);\n",
              "        }\n",
              "      </script>\n",
              "    </div>\n",
              "  </div>\n",
              "  "
            ]
          },
          "metadata": {},
          "execution_count": 142
        }
      ]
    },
    {
      "cell_type": "code",
      "source": [
        "\n",
        "x_test[\"residual\"] = abs(x_test[\"Predictions\"] - x_test[\"Actual\"])\n",
        "gby = x_test.groupby(\"seq_length\")[\"residual\"].mean()\n",
        "gby.plot(kind='bar', title='Average Residual by Sequence Length',\n",
        "               ylabel='Average Residual (Degrees Celsius)', xlabel='Sequence Length')"
      ],
      "metadata": {
        "colab": {
          "base_uri": "https://localhost:8080/",
          "height": 328
        },
        "id": "VsklNNT6WqIF",
        "outputId": "34cfeaab-1170-4231-8a3f-63958d7d7dae"
      },
      "execution_count": null,
      "outputs": [
        {
          "output_type": "execute_result",
          "data": {
            "text/plain": [
              "<matplotlib.axes._subplots.AxesSubplot at 0x7fa28d95f460>"
            ]
          },
          "metadata": {},
          "execution_count": 143
        },
        {
          "output_type": "display_data",
          "data": {
            "text/plain": [
              "<Figure size 432x288 with 1 Axes>"
            ],
            "image/png": "[encoded data removed]"
          },
          "metadata": {
            "needs_background": "light"
          }
        }
      ]
    },
    {
      "cell_type": "markdown",
      "source": [
        "### Predictions vs Accuracy\n",
        "Plot of predicted melting points versus actual melting points along an x-axis of sequence length "
      ],
      "metadata": {
        "id": "1Lj7_0CKa5c0"
      }
    },
    {
      "cell_type": "code",
      "source": [
        "sns.lineplot(x='seq_length', y='value', hue='variable', \n",
        "             data=pd.melt(x_test.drop([\"strain\", \"residual\", \"pH\", \"energy\"], axis = 1), ['seq_length'])).set(\n",
        "                 title = \"Acutal vs Predicted Melting Point\"\n",
        "             )\n",
        "plt.xlim(0, 750)"
      ],
      "metadata": {
        "colab": {
          "base_uri": "https://localhost:8080/",
          "height": 313
        },
        "id": "vIkxRL5ga_3t",
        "outputId": "f4599ede-4581-40ef-d437-42abe0139421"
      },
      "execution_count": null,
      "outputs": [
        {
          "output_type": "execute_result",
          "data": {
            "text/plain": [
              "(0.0, 750.0)"
            ]
          },
          "metadata": {},
          "execution_count": 144
        },
        {
          "output_type": "display_data",
          "data": {
            "text/plain": [
              "<Figure size 432x288 with 1 Axes>"
            ],
            "image/png": "[encoded data removed]"
          },
          "metadata": {
            "needs_background": "light"
          }
        }
      ]
    },
    {
      "cell_type": "markdown",
      "source": [
        "# Conclusion\n",
        "Based on our spearman correlation coefficient of 0.838, which is based on our split test data and training data, our predicitions were pretty accurate. However, when we tried predicting the test data it seems that our predictions was pretty terrible. We did not rank as highly as we would have liked in the competition. The test data only has variants of one protein, which is not present in our data. Other teams probably had more knowledge in how to extrapilate across wildtypes based on simply the relational protein sequences. Our model had a hard time adjusting to novel wildtypes, since it had not seen them before.  It is easy for our model to adjust once it has been shown a wildtype, though. Given information about a wildtype, its mutations, and its melting points makes predicting melting points straightforward. Taking the same information and predicting another wildtype's melting point is very difficult as different protein wildtypes behave so different, and this variability in behavior is evident even in the small sample of 78 wildtypes in this dataset. Perhaps this is also further proof that the energy calculations are either not very good at determining relative strain in proteins, or that relative strain in proteins does not correlate well with melting point temperature.\n",
        "\n",
        "## Final Thoughts\n",
        "Through this competition and final project, we have discovered that to perform the data science process most effectively, extensive knowledge or even expertise in the field of the dataset is often required. In this dataset it is evidently clear that only experts in protein mutations would be able to provide the neccesary information about every factor in protein melting points. Nontheless, our methods show that research and proper data science technique is enough to get simpler but useful insights from important information."
      ],
      "metadata": {
        "id": "m7Lj0NQPAN9T"
      }
    }
  ],
  "metadata": {
    "colab": {
      "provenance": []
    },
    "gpuClass": "standard",
    "kernelspec": {
      "display_name": "Python 3.9.12 ('base')",
      "language": "python",
      "name": "python3"
    },
    "language_info": {
      "codemirror_mode": {
        "name": "ipython",
        "version": 3
      },
      "file_extension": ".py",
      "mimetype": "text/x-python",
      "name": "python",
      "nbconvert_exporter": "python",
      "pygments_lexer": "ipython3",
      "version": "3.9.12"
    },
    "vscode": {
      "interpreter": {
        "hash": "f38d0e30aab68b7178f6242eeb1a09a0d24bc008d0c5c4f08d0e2ff288dbc680"
      }
    }
  },
  "nbformat": 4,
  "nbformat_minor": 0
}