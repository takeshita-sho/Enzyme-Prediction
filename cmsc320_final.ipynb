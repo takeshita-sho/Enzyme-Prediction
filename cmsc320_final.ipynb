{
  "cells": [
    {
      "cell_type": "markdown",
      "metadata": {
        "id": "-5CQAq0wmvn3"
      },
      "source": [
        "---\n",
        "  Authors: Connor Amato and Sho Takeshita\n",
        "\n",
        "  Title: Enzyme Stability Regression\n",
        "---\n",
        "Novozymes Enzyme Stability Prediction Kaggle Competition\n",
        "\n",
        "## Motivation\n",
        "In industry, enzymes replace chemicals and accelerate production processes. Understanding enzyme stability is a problem in biotechnology, which could help reduce waste, lower costs, and increase production speed.\n",
        "\n",
        "## Overview\n",
        "Our goal is to predict the thermostability of proteins, which is measured by their melting points, after single point amino acid mutations and deletions. The relationship between protein type and thermostability is not straightforward, but the amount of disorder (e.g. mutation) in a protein sequence is the main factor according to this publication supplied by the competition: https://www.nature.com/articles/s41592-020-0801-4.\n",
        "The competition uses Spearman correlation coefficient as the metric for performance.  \n",
        "\n",
        "## The Dataset\n",
        "This kaggle competition gives us a training and a test dataset. The dataset contains around 31 thousand records of the variant for one enzyme, sourced from an attempt to atlas the thermal stability of proteins across different types of proteins. The datasets contain for each protein their sequence id (identifies each protein variant), protein sequence (amino acid sequence), pH at which the stability was measured, thermostability (melting point), and a link to the source of the data. The training set includes normal sequences as well as sequences with single or multiple mutations. The submission to the competition is a csv file with the test set along with the classified thermostability. This is a continuous data point so we will be applying some sort of regression model.\n",
        "## Reading the Data\n",
        "Here we import the necessary libraries to perform our data exploration. We will be using primarily libraries used in class with the addition of levenshtein for number of mutation calculations adn pyrosetta to calculate the strain energy."
      ]
    },
    {
      "cell_type": "code",
      "execution_count": 28,
      "metadata": {
        "colab": {
          "background_save": true,
          "base_uri": "https://localhost:8080/",
          "height": 1000
        },
        "id": "JF2oSrdVBnSJ",
        "outputId": "e7972856-9735-4dbf-9ce1-0163f82ae709"
      },
      "outputs": [],
      "source": [
        "import numpy as np\n",
        "import pandas as pd\n",
        "import matplotlib.pyplot as plt #Imported basic libraries\n",
        "import seaborn as sns\n",
        "import sklearn as sk\n",
        "import pyrosetta\n",
        "from pyrosetta import *\n",
        "from Levenshtein import distance as levenshtein_distance\n",
        "from sklearn.ensemble import RandomForestRegressor\n",
        "from sklearn.model_selection import RandomizedSearchCV\n",
        "from sklearn.model_selection import train_test_split\n",
        "from scipy import stats\n",
        "from scipy.stats import spearmanr"
      ]
    },
    {
      "cell_type": "markdown",
      "metadata": {},
      "source": [
        "Here we read in our training csv file. This provides us with the colums seq_id (protein variant), protein sequence (ammino acid sequence of protein), pH (measure of acidity the protein was recorded in), tm (melting point) and data_source, which gives us the link from which the data was collected."
      ]
    },
    {
      "cell_type": "code",
      "execution_count": 29,
      "metadata": {
        "colab": {
          "base_uri": "https://localhost:8080/",
          "height": 206
        },
        "id": "TevCVSmE2njJ",
        "outputId": "2da0caf3-7b5a-457e-bc03-07b5405c29a2"
      },
      "outputs": [
        {
          "data": {
            "text/html": [
              "<div>\n",
              "<style scoped>\n",
              "    .dataframe tbody tr th:only-of-type {\n",
              "        vertical-align: middle;\n",
              "    }\n",
              "\n",
              "    .dataframe tbody tr th {\n",
              "        vertical-align: top;\n",
              "    }\n",
              "\n",
              "    .dataframe thead th {\n",
              "        text-align: right;\n",
              "    }\n",
              "</style>\n",
              "<table border=\"1\" class=\"dataframe\">\n",
              "  <thead>\n",
              "    <tr style=\"text-align: right;\">\n",
              "      <th></th>\n",
              "      <th>seq_id</th>\n",
              "      <th>protein_sequence</th>\n",
              "      <th>pH</th>\n",
              "      <th>data_source</th>\n",
              "      <th>tm</th>\n",
              "    </tr>\n",
              "  </thead>\n",
              "  <tbody>\n",
              "    <tr>\n",
              "      <th>0</th>\n",
              "      <td>0</td>\n",
              "      <td>AAAAKAAALALLGEAPEVVDIWLPAGWRQPFRVFRLERKGDGVLVG...</td>\n",
              "      <td>7.0</td>\n",
              "      <td>doi.org/10.1038/s41592-020-0801-4</td>\n",
              "      <td>75.7</td>\n",
              "    </tr>\n",
              "    <tr>\n",
              "      <th>1</th>\n",
              "      <td>1</td>\n",
              "      <td>AAADGEPLHNEEERAGAGQVGRSLPQESEEQRTGSRPRRRRDLGSR...</td>\n",
              "      <td>7.0</td>\n",
              "      <td>doi.org/10.1038/s41592-020-0801-4</td>\n",
              "      <td>50.5</td>\n",
              "    </tr>\n",
              "    <tr>\n",
              "      <th>2</th>\n",
              "      <td>2</td>\n",
              "      <td>AAAFSTPRATSYRILSSAGSGSTRADAPQVRRLHTTRDLLAKDYYA...</td>\n",
              "      <td>7.0</td>\n",
              "      <td>doi.org/10.1038/s41592-020-0801-4</td>\n",
              "      <td>40.5</td>\n",
              "    </tr>\n",
              "    <tr>\n",
              "      <th>3</th>\n",
              "      <td>3</td>\n",
              "      <td>AAASGLRTAIPAQPLRHLLQPAPRPCLRPFGLLSVRAGSARRSGLL...</td>\n",
              "      <td>7.0</td>\n",
              "      <td>doi.org/10.1038/s41592-020-0801-4</td>\n",
              "      <td>47.2</td>\n",
              "    </tr>\n",
              "    <tr>\n",
              "      <th>4</th>\n",
              "      <td>4</td>\n",
              "      <td>AAATKSGPRRQSQGASVRTFTPFYFLVEPVDTLSVRGSSVILNCSA...</td>\n",
              "      <td>7.0</td>\n",
              "      <td>doi.org/10.1038/s41592-020-0801-4</td>\n",
              "      <td>49.5</td>\n",
              "    </tr>\n",
              "  </tbody>\n",
              "</table>\n",
              "</div>"
            ],
            "text/plain": [
              "   seq_id                                   protein_sequence   pH  \\\n",
              "0       0  AAAAKAAALALLGEAPEVVDIWLPAGWRQPFRVFRLERKGDGVLVG...  7.0   \n",
              "1       1  AAADGEPLHNEEERAGAGQVGRSLPQESEEQRTGSRPRRRRDLGSR...  7.0   \n",
              "2       2  AAAFSTPRATSYRILSSAGSGSTRADAPQVRRLHTTRDLLAKDYYA...  7.0   \n",
              "3       3  AAASGLRTAIPAQPLRHLLQPAPRPCLRPFGLLSVRAGSARRSGLL...  7.0   \n",
              "4       4  AAATKSGPRRQSQGASVRTFTPFYFLVEPVDTLSVRGSSVILNCSA...  7.0   \n",
              "\n",
              "                         data_source    tm  \n",
              "0  doi.org/10.1038/s41592-020-0801-4  75.7  \n",
              "1  doi.org/10.1038/s41592-020-0801-4  50.5  \n",
              "2  doi.org/10.1038/s41592-020-0801-4  40.5  \n",
              "3  doi.org/10.1038/s41592-020-0801-4  47.2  \n",
              "4  doi.org/10.1038/s41592-020-0801-4  49.5  "
            ]
          },
          "execution_count": 29,
          "metadata": {},
          "output_type": "execute_result"
        }
      ],
      "source": [
        "df = pd.read_csv(\"train.csv\")\n",
        "df.head(5)"
      ]
    },
    {
      "cell_type": "markdown",
      "metadata": {},
      "source": [
        "Here we drop data source since it is not very useful for us and does not help with calculations or predictions. We also check if there are any null values present in the data."
      ]
    },
    {
      "cell_type": "code",
      "execution_count": 30,
      "metadata": {
        "colab": {
          "base_uri": "https://localhost:8080/"
        },
        "id": "NuXvB9Bsnh8u",
        "outputId": "b5f87233-3892-406a-fa40-8a20137d0913"
      },
      "outputs": [
        {
          "name": "stdout",
          "output_type": "stream",
          "text": [
            "Amount of null protein sequences:  0 \n",
            "Amount of null tm values:  0 \n",
            "Amount of null pH values:  286\n"
          ]
        }
      ],
      "source": [
        "df = df.drop(\"data_source\", axis = 1) #This column is not useful to classification\n",
        "print('Amount of null protein sequences: ',len(df[df[\"protein_sequence\"].isnull()]),\n",
        "'\\nAmount of null tm values: ',len( df[df[\"tm\"].isnull()]),\n",
        "'\\nAmount of null pH values: ',len( df[df[\"pH\"].isnull()])) \n",
        "# Each remaining column is perfect except for the 286 missing pH values"
      ]
    },
    {
      "cell_type": "markdown",
      "metadata": {},
      "source": [
        "Here we create a distribution plot to see what our target variable looks like. We can see that it is approximately normally distributed, but there is a large spike in data to the left of the peak of the bell curve. The distributions is centered around a tm of around 50."
      ]
    },
    {
      "cell_type": "code",
      "execution_count": 31,
      "metadata": {
        "colab": {
          "base_uri": "https://localhost:8080/",
          "height": 386
        },
        "id": "9BlokjsbqZtk",
        "outputId": "08ca9bff-e4b0-430f-9e2c-8d340566ac83"
      },
      "outputs": [
        {
          "data": {
            "text/plain": [
              "<seaborn.axisgrid.FacetGrid at 0x7f6bf3b75a30>"
            ]
          },
          "execution_count": 31,
          "metadata": {},
          "output_type": "execute_result"
        },
        {
          "data": {
            "image/png": "[encoded data removed]",
            "text/plain": [
              "<Figure size 360x360 with 1 Axes>"
            ]
          },
          "metadata": {
            "needs_background": "light"
          },
          "output_type": "display_data"
        }
      ],
      "source": [
        "sns.displot(df['tm'], kde=True).set(title='Number of Proteins vs. tm Disribution Plot') # Let's see the distribution of the classifications \n",
        "\n",
        "#(tm is the enzyme melting point and is a measure of stability)"
      ]
    },
    {
      "cell_type": "markdown",
      "metadata": {},
      "source": [
        "Here we create anouther distribution plot to see what the distrubution of pH looks like among proteins. It seems that the data has a massive peak around a pH of 7 and most of the data is concentrated at that peak and below. Note that pH is on a scal from 0-14. There were no pHs below 2, so we set the scale to start at 2 on the x axis. The plot looks normally distributed."
      ]
    },
    {
      "cell_type": "code",
      "execution_count": 32,
      "metadata": {
        "colab": {
          "base_uri": "https://localhost:8080/",
          "height": 386
        },
        "id": "unbedBGA0HPz",
        "outputId": "894abd1f-9a78-43c0-9024-3409057b487c"
      },
      "outputs": [
        {
          "data": {
            "text/plain": [
              "(2.0, 14.0)"
            ]
          },
          "execution_count": 32,
          "metadata": {},
          "output_type": "execute_result"
        },
        {
          "data": {
            "image/png": "[encoded data removed]",
            "text/plain": [
              "<Figure size 360x360 with 1 Axes>"
            ]
          },
          "metadata": {
            "needs_background": "light"
          },
          "output_type": "display_data"
        }
      ],
      "source": [
        "sns.displot(df['pH'], kde=True).set(title='Number of Proteins vs. pH Distribution Plot')\n",
        "plt.xlim(right=14,left=2)"
      ]
    },
    {
      "cell_type": "code",
      "execution_count": 33,
      "metadata": {
        "colab": {
          "base_uri": "https://localhost:8080/"
        },
        "id": "-8CSQQcAqdkj",
        "outputId": "c7c32612-b551-42d8-f69b-ef428b9dafcc"
      },
      "outputs": [
        {
          "name": "stdout",
          "output_type": "stream",
          "text": [
            "31390  Total Rows vs  28981  Unique Sequences\n"
          ]
        }
      ],
      "source": [
        "print(len(df), \" Total Rows vs \", len(df[\"protein_sequence\"].unique()), \" Unique Sequences\")"
      ]
    },
    {
      "cell_type": "code",
      "execution_count": 34,
      "metadata": {
        "colab": {
          "base_uri": "https://localhost:8080/",
          "height": 282
        },
        "id": "uIKgTpF3peqe",
        "outputId": "6de5b326-55e1-49bc-bc3c-aee4b66bc579"
      },
      "outputs": [
        {
          "name": "stdout",
          "output_type": "stream",
          "text": [
            "coorelation: -0.058987150915936856\n"
          ]
        },
        {
          "data": {
            "image/png": "[encoded data removed]",
            "text/plain": [
              "<Figure size 432x288 with 1 Axes>"
            ]
          },
          "metadata": {
            "needs_background": "light"
          },
          "output_type": "display_data"
        }
      ],
      "source": [
        "plt.scatter(df[\"protein_sequence\"].apply(lambda x : len(x)), df[\"tm\"])\n",
        "print(\"coorelation: \" + str(df[\"tm\"].corr(df[\"protein_sequence\"].apply(lambda x : len(x))))) \n",
        "# looks like no relation, we can ignore the length of sequences"
      ]
    },
    {
      "cell_type": "code",
      "execution_count": 35,
      "metadata": {
        "colab": {
          "base_uri": "https://localhost:8080/"
        },
        "id": "14A0W9M6vPrF",
        "outputId": "a38ce6b5-c81f-4a14-bfb2-33e34ecbbeba"
      },
      "outputs": [
        {
          "data": {
            "text/plain": [
              "221"
            ]
          },
          "execution_count": 35,
          "metadata": {},
          "output_type": "execute_result"
        }
      ],
      "source": [
        "# This is the base wild type sequence provided in the description of the competition\n",
        "\n",
        "base = 'VPVNPEPDATSVENVALKTGSGDSQSDPIKADLEVKGQSALPFDVDCWAILCKGAPNVLQRVNEKTKNSNRDRSGANKGPFKDPQKWGIKALPPKNPSWSAQDFKSPEEYAFASSLQGGTNAILAPVNLASQNSQGGVLNGFYSANKVAQFDPSKPQQTKGTWFQITKFTGAAGPYCKALGSNDKSVCDKNKNIAGDWGFDPAKWAYQYDEKNNKFNYVGK'\n",
        "len(base)"
      ]
    },
    {
      "cell_type": "markdown",
      "metadata": {
        "id": "RfmWc8Skp8jv"
      },
      "source": [
        "## Parsing\n",
        "The protein sequence feature is almost entirely made of of unique values, so we need to parse this into multiple more useful features. To do this, we will employ the PyRosseta library, which supplies funcitonality for dealing with molecular biology information. "
      ]
    },
    {
      "cell_type": "markdown",
      "metadata": {
        "id": "naQdjJ8_JYVQ"
      },
      "source": [
        "Using Rosetta's scoring, let's get the energy balance and number of atoms from each amino acid present in the base sequence. This will be useful later for numeralizing the mutations. Lower energies are more stable."
      ]
    },
    {
      "cell_type": "code",
      "execution_count": 36,
      "metadata": {
        "colab": {
          "base_uri": "https://localhost:8080/"
        },
        "id": "9KyRoQp0IWM8",
        "outputId": "1012fe3d-8fcd-4a41-e227-915b04e1b169"
      },
      "outputs": [
        {
          "name": "stdout",
          "output_type": "stream",
          "text": [
            "PyRosetta-4 2022 [Rosetta PyRosetta4.Release.python39.linux 2022.49+release.201d7639f91f369d58b1adf514f3febaf6154c58 2022-12-07T16:15:33] retrieved from: http://www.pyrosetta.org\n",
            "(C) Copyright Rosetta Commons Member Institutions. Created in JHU by Sergey Lyskov and PyRosetta Team.\n",
            "core.init: Checking for fconfig files in pwd and ./rosetta/flags\n",
            "core.init: Rosetta version: PyRosetta4.Release.python39.linux r337 2022.49+release.201d763 201d7639f91f369d58b1adf514f3febaf6154c58 http://www.pyrosetta.org 2022-12-07T16:15:33\n",
            "core.init: command: PyRosetta -ex1 -ex2aro -database /home/sho/anaconda3/lib/python3.9/site-packages/pyrosetta-2022.49+release.201d763-py3.9-linux-x86_64.egg/pyrosetta/database\n",
            "basic.random.init_random_generator: 'RNG device' seed mode, using '/dev/urandom', seed=54535753 seed_offset=0 real_seed=54535753\n",
            "basic.random.init_random_generator: RandomGenerator:init: Normal mode, seed=54535753 RG_type=mt19937\n",
            "core.scoring.ScoreFunctionFactory: SCOREFUNCTION: ref2015\n",
            "A - energy: 1.3271969948449436, # atoms: 13\n",
            "R - energy: 102.3160570474678, # atoms: 27\n",
            "N - energy: 21.277811221643148, # atoms: 17\n",
            "D - energy: 22.591601075224595, # atoms: 15\n",
            "C - energy: 25.879464721440193, # atoms: 14\n",
            "Q - energy: 37.36774682895438, # atoms: 20\n",
            "E - energy: 38.71063815498503, # atoms: 18\n",
            "G - energy: 0.7983075202790909, # atoms: 10\n",
            "H - energy: 25.958469253918192, # atoms: 20\n",
            "I - energy: 43.980058457629774, # atoms: 22\n",
            "L - energy: 44.929432130300164, # atoms: 22\n",
            "K - energy: 43.83929786501412, # atoms: 25\n",
            "M - energy: 38.571701349515315, # atoms: 20\n",
            "F - energy: 38.030411886872976, # atoms: 23\n",
            "P - energy: -0.6249041425135933, # atoms: 19\n",
            "S - energy: 16.768555735893234, # atoms: 14\n",
            "T - energy: 39.365500665004205, # atoms: 17\n",
            "W - energy: 20.734292739532993, # atoms: 27\n",
            "Y - energy: 27.050567512229414, # atoms: 24\n",
            "V - energy: 16.871467049654573, # atoms: 19\n"
          ]
        }
      ],
      "source": [
        "pyrosetta.init()\n",
        "score_func = pyrosetta.get_score_function(True) # Used for scoring amino acids in pyRosetta\n",
        "energy_dict = {}\n",
        "atoms_dict = {}\n",
        "amino_acids = ['A', 'R', 'N', 'D', 'C', 'Q', 'E', 'G', 'H', 'I', 'L', 'K', 'M', 'F', 'P', 'S', 'T', 'W', 'Y', 'V']\n",
        "for aa in amino_acids:\n",
        "    pose = pose_from_sequence(str(aa), 'fa_standard') \n",
        "    energy_dict[aa] = score_func(pose)\n",
        "    atoms_dict[aa] = pose.total_atoms()\n",
        "    print(str(aa) + \" - energy: \" + str(energy_dict[aa]) + \", # atoms: \" + str(atoms_dict[aa]))"
      ]
    },
    {
      "cell_type": "markdown",
      "metadata": {
        "id": "Qi8Sv6mjzdLU"
      },
      "source": [
        "## Grouping Sequences\n",
        "The train data contains thousands of sequences that are not grouped properly.\n",
        "To assign an original wildtype sequence to the training data, we will emply the use of the train wildtype groups csv file containing all wiltypes present in the training data. "
      ]
    },
    {
      "cell_type": "code",
      "execution_count": 37,
      "metadata": {
        "colab": {
          "base_uri": "https://localhost:8080/"
        },
        "id": "c6IEGOY7y-zq",
        "outputId": "96e7e25a-7f1c-4059-dbdd-4cf65e89d7af"
      },
      "outputs": [
        {
          "data": {
            "text/plain": [
              "78"
            ]
          },
          "execution_count": 37,
          "metadata": {},
          "output_type": "execute_result"
        }
      ],
      "source": [
        "wildtype_groups = pd.read_csv(\"train_wildtype_groups.csv\") #https://www.kaggle.com/datasets/shlomoron/train-wildtypes-af?select=train_wildtype_groups.csv \n",
        "wildtypes = wildtype_groups[\"wildtype\"].unique()\n",
        "len(wildtypes) # There are 78 unique wildtypes in the training data"
      ]
    },
    {
      "cell_type": "markdown",
      "metadata": {
        "id": "oOG5QMLCAJU-"
      },
      "source": [
        "To group each sequence into a wildtype group, we need to emply a string difference algorithm. We have chosen the levenshtein distance because we do not care about what place each character is in, just the amount of additions or deletions."
      ]
    },
    {
      "cell_type": "code",
      "execution_count": 38,
      "metadata": {
        "id": "cuuuClPR9OPS"
      },
      "outputs": [],
      "source": [
        "\n",
        "# Needs to be optimized perhaps using apply function or list comprehensions\n",
        "\n",
        "df[\"wildtype\"] = -1\n",
        "\n",
        "def group_wildtypes(seq):\n",
        "  for idx in range(len(wildtypes)):\n",
        "    wt = wildtypes[idx]\n",
        "    ld = levenshtein_distance(wt, seq)\n",
        "    if ((len(seq) > (len(wt) - 6)) and (len(seq) < (len(wt) + 6))) and ld < 20:\n",
        "      return int(idx)\n",
        "      \n",
        "df[\"wildtype\"] = df[\"protein_sequence\"].apply(group_wildtypes)\n",
        "\n",
        "print(df[\"wildtype\"].value_counts())\n",
        "mutations = []\n",
        "for row in df.iterrows():\n",
        "  mutations.append(levenshtein_distance(wildtypes[row[1][\"wildtype\"]], row[1][\"protein_sequence\"]))\n",
        "df[\"total_mutations\"] = mutations"
      ]
    },
    {
      "cell_type": "markdown",
      "metadata": {
        "id": "X1ySit2yQMSV"
      },
      "source": [
        "### Energy Calculations\n",
        "Using the dictionaries for each amino acid and their energy and number of atoms, we will calculate the "
      ]
    },
    {
      "cell_type": "code",
      "execution_count": null,
      "metadata": {
        "colab": {
          "base_uri": "https://localhost:8080/"
        },
        "id": "xd0Kcaew4vyU",
        "outputId": "56e3dac6-eafc-4dfa-8677-f0dbf9228c85"
      },
      "outputs": [],
      "source": [
        "def calc_energy(data):\n",
        "  mutations = []\n",
        "  energy_changes = []\n",
        "  for row in data.iterrows():\n",
        "    seq = row[1][\"protein_sequence\"]\n",
        "    wt = wildtypes[row[1][\"wildtype\"]]\n",
        "    diff = \"\"\n",
        "    flag = False\n",
        "    count = 0\n",
        "    muts = []\n",
        "    wts = []\n",
        "    for i in range(min(len(wt), len(seq))):\n",
        "      if (wt[i] != seq[i]):\n",
        "        count = count + 1\n",
        "        if not flag:\n",
        "          muts.append(seq[i])\n",
        "          wts.append(wt[i])\n",
        "          diff = diff + str(i) + \" \"\n",
        "          flag = True\n",
        "        diff = diff + seq[i]\n",
        "      else:\n",
        "        if flag:\n",
        "          diff = diff + \" - \"\n",
        "          flag = False\n",
        "    energy_change = 0\n",
        "    for j in range(len(muts)):\n",
        "      emut = energy_dict[muts[j]]\n",
        "      ewt = energy_dict[wts[j]]\n",
        "      nmut = atoms_dict[muts[j]]\n",
        "      nwt = atoms_dict[wts[j]]\n",
        "      e_bar = (emut/nmut - ewt/nwt) / (ewt/nwt) # Formula from study\n",
        "      energy_change = energy_change + e_bar\n",
        "    mutations.append(count)\n",
        "    energy_changes.append(energy_change)\n",
        "  data[\"total_mutations\"] = mutations\n",
        "  data[\"energy\"] = energy_changes\n",
        "\n",
        "calc_energy(df)"
      ]
    },
    {
      "cell_type": "code",
      "execution_count": null,
      "metadata": {
        "colab": {
          "base_uri": "https://localhost:8080/",
          "height": 166
        },
        "id": "YgTMKjmrNc3M",
        "outputId": "db3ad16c-73b4-46dd-b96b-c401c8cb6357"
      },
      "outputs": [
        {
          "data": {
            "text/html": [
              "<div>\n",
              "<style scoped>\n",
              "    .dataframe tbody tr th:only-of-type {\n",
              "        vertical-align: middle;\n",
              "    }\n",
              "\n",
              "    .dataframe tbody tr th {\n",
              "        vertical-align: top;\n",
              "    }\n",
              "\n",
              "    .dataframe thead th {\n",
              "        text-align: right;\n",
              "    }\n",
              "</style>\n",
              "<table border=\"1\" class=\"dataframe\">\n",
              "  <thead>\n",
              "    <tr style=\"text-align: right;\">\n",
              "      <th></th>\n",
              "      <th>seq_id</th>\n",
              "      <th>protein_sequence</th>\n",
              "      <th>pH</th>\n",
              "      <th>tm</th>\n",
              "      <th>wildtype</th>\n",
              "      <th>total_mutations</th>\n",
              "      <th>energy</th>\n",
              "    </tr>\n",
              "  </thead>\n",
              "  <tbody>\n",
              "    <tr>\n",
              "      <th>266</th>\n",
              "      <td>266</td>\n",
              "      <td>AKGMSKMPQFNLRWPREVLDLVRKVAEENGRSVNSEIYQRVMESFK...</td>\n",
              "      <td>7.5</td>\n",
              "      <td>58.0</td>\n",
              "      <td>25</td>\n",
              "      <td>1</td>\n",
              "      <td>-0.947064</td>\n",
              "    </tr>\n",
              "    <tr>\n",
              "      <th>972</th>\n",
              "      <td>972</td>\n",
              "      <td>DTSGTVCLSALPPEATDTLNLIASDGPFPYSQDGVVFQNRESVLPT...</td>\n",
              "      <td>7.0</td>\n",
              "      <td>45.2</td>\n",
              "      <td>8</td>\n",
              "      <td>1</td>\n",
              "      <td>1.607760</td>\n",
              "    </tr>\n",
              "    <tr>\n",
              "      <th>973</th>\n",
              "      <td>973</td>\n",
              "      <td>DTSGTVCLSALPPEATDTLNLIASDGPFPYSQDGVVFQNRESVLPT...</td>\n",
              "      <td>48.4</td>\n",
              "      <td>7.0</td>\n",
              "      <td>8</td>\n",
              "      <td>1</td>\n",
              "      <td>1.607760</td>\n",
              "    </tr>\n",
              "    <tr>\n",
              "      <th>974</th>\n",
              "      <td>974</td>\n",
              "      <td>DTSGTVCLSALPPEATDTLNLIASDGPFPYSQDGVVFQNRESVLPT...</td>\n",
              "      <td>7.0</td>\n",
              "      <td>48.0</td>\n",
              "      <td>8</td>\n",
              "      <td>1</td>\n",
              "      <td>1.607760</td>\n",
              "    </tr>\n",
              "    <tr>\n",
              "      <th>981</th>\n",
              "      <td>981</td>\n",
              "      <td>DVSGTVCLSALPPEATDTLNLIASDGPFPFSQDGVVFQNRESVLPT...</td>\n",
              "      <td>7.0</td>\n",
              "      <td>25.0</td>\n",
              "      <td>8</td>\n",
              "      <td>1</td>\n",
              "      <td>0.467027</td>\n",
              "    </tr>\n",
              "    <tr>\n",
              "      <th>982</th>\n",
              "      <td>982</td>\n",
              "      <td>DVSGTVCLSALPPEATDTLNLIASDGPFPYSQAGVVFQNRESVLPT...</td>\n",
              "      <td>7.0</td>\n",
              "      <td>31.8</td>\n",
              "      <td>8</td>\n",
              "      <td>1</td>\n",
              "      <td>-0.932215</td>\n",
              "    </tr>\n",
              "    <tr>\n",
              "      <th>983</th>\n",
              "      <td>983</td>\n",
              "      <td>DVSGTVCLSALPPEATDTLNLIASDGPFPYSQAGVVFQNRESVLPT...</td>\n",
              "      <td>7.0</td>\n",
              "      <td>52.6</td>\n",
              "      <td>8</td>\n",
              "      <td>1</td>\n",
              "      <td>-0.932215</td>\n",
              "    </tr>\n",
              "    <tr>\n",
              "      <th>984</th>\n",
              "      <td>984</td>\n",
              "      <td>DVSGTVCLSALPPEATDTLNLIASDGPFPYSQAGVVFQNRESVLPT...</td>\n",
              "      <td>7.0</td>\n",
              "      <td>25.0</td>\n",
              "      <td>8</td>\n",
              "      <td>1</td>\n",
              "      <td>-0.932215</td>\n",
              "    </tr>\n",
              "    <tr>\n",
              "      <th>985</th>\n",
              "      <td>985</td>\n",
              "      <td>DVSGTVCLSALPPEATDTLNLIASDGPFPYSQDGVTFQNRESVLPT...</td>\n",
              "      <td>7.0</td>\n",
              "      <td>43.8</td>\n",
              "      <td>8</td>\n",
              "      <td>1</td>\n",
              "      <td>1.607760</td>\n",
              "    </tr>\n",
              "    <tr>\n",
              "      <th>986</th>\n",
              "      <td>986</td>\n",
              "      <td>DVSGTVCLSALPPEATDTLNLIASDGPFPYSQDGVTFQNRESVLPT...</td>\n",
              "      <td>48.4</td>\n",
              "      <td>7.0</td>\n",
              "      <td>8</td>\n",
              "      <td>1</td>\n",
              "      <td>1.607760</td>\n",
              "    </tr>\n",
              "  </tbody>\n",
              "</table>\n",
              "</div>"
            ],
            "text/plain": [
              "     seq_id                                   protein_sequence    pH    tm  \\\n",
              "266     266  AKGMSKMPQFNLRWPREVLDLVRKVAEENGRSVNSEIYQRVMESFK...   7.5  58.0   \n",
              "972     972  DTSGTVCLSALPPEATDTLNLIASDGPFPYSQDGVVFQNRESVLPT...   7.0  45.2   \n",
              "973     973  DTSGTVCLSALPPEATDTLNLIASDGPFPYSQDGVVFQNRESVLPT...  48.4   7.0   \n",
              "974     974  DTSGTVCLSALPPEATDTLNLIASDGPFPYSQDGVVFQNRESVLPT...   7.0  48.0   \n",
              "981     981  DVSGTVCLSALPPEATDTLNLIASDGPFPFSQDGVVFQNRESVLPT...   7.0  25.0   \n",
              "982     982  DVSGTVCLSALPPEATDTLNLIASDGPFPYSQAGVVFQNRESVLPT...   7.0  31.8   \n",
              "983     983  DVSGTVCLSALPPEATDTLNLIASDGPFPYSQAGVVFQNRESVLPT...   7.0  52.6   \n",
              "984     984  DVSGTVCLSALPPEATDTLNLIASDGPFPYSQAGVVFQNRESVLPT...   7.0  25.0   \n",
              "985     985  DVSGTVCLSALPPEATDTLNLIASDGPFPYSQDGVTFQNRESVLPT...   7.0  43.8   \n",
              "986     986  DVSGTVCLSALPPEATDTLNLIASDGPFPYSQDGVTFQNRESVLPT...  48.4   7.0   \n",
              "\n",
              "     wildtype  total_mutations    energy  \n",
              "266        25                1 -0.947064  \n",
              "972         8                1  1.607760  \n",
              "973         8                1  1.607760  \n",
              "974         8                1  1.607760  \n",
              "981         8                1  0.467027  \n",
              "982         8                1 -0.932215  \n",
              "983         8                1 -0.932215  \n",
              "984         8                1 -0.932215  \n",
              "985         8                1  1.607760  \n",
              "986         8                1  1.607760  "
            ]
          },
          "execution_count": 29,
          "metadata": {},
          "output_type": "execute_result"
        }
      ],
      "source": [
        "df = df[df[\"wildtype\"] != -1]\n",
        "df"
      ]
    },
    {
      "cell_type": "code",
      "execution_count": null,
      "metadata": {},
      "outputs": [],
      "source": [
        "# have to modify data a bit in order to run it through RF\n",
        "df.dropna(axis=0,how='any',inplace=True)\n",
        "df.drop(['wildtype','seq_id','protein_sequence'], axis=1, inplace=True)"
      ]
    },
    {
      "cell_type": "code",
      "execution_count": null,
      "metadata": {},
      "outputs": [
        {
          "data": {
            "image/png": "[encoded data removed]",
            "text/plain": [
              "<Figure size 432x288 with 2 Axes>"
            ]
          },
          "metadata": {
            "needs_background": "light"
          },
          "output_type": "display_data"
        }
      ],
      "source": [
        "# This shows us the correlation between columns\n",
        "sns.heatmap(df.corr(),linewidths=1,cmap=plt.cm.Reds, annot=True)"
      ]
    },
    {
      "cell_type": "code",
      "execution_count": null,
      "metadata": {},
      "outputs": [],
      "source": [
        "x=df.drop(['tm'],axis=1)\n",
        "y=df['tm']\n",
        "x_train,x_test,y_train,y_test=train_test_split(x,y,test_size=0.20)"
      ]
    },
    {
      "cell_type": "code",
      "execution_count": null,
      "metadata": {},
      "outputs": [
        {
          "name": "stdout",
          "output_type": "stream",
          "text": [
            "{'bootstrap': True, 'ccp_alpha': 0.0, 'criterion': 'squared_error', 'max_depth': None, 'max_features': 'auto', 'max_leaf_nodes': None, 'max_samples': None, 'min_impurity_decrease': 0.0, 'min_samples_leaf': 1, 'min_samples_split': 2, 'min_weight_fraction_leaf': 0.0, 'n_estimators': 100, 'n_jobs': None, 'oob_score': False, 'random_state': None, 'verbose': 0, 'warm_start': False}\n"
          ]
        }
      ],
      "source": [
        "\n",
        "rf = RandomForestRegressor()\n",
        "print(rf.get_params())"
      ]
    },
    {
      "cell_type": "code",
      "execution_count": null,
      "metadata": {},
      "outputs": [],
      "source": [
        "grid = {'max_depth':list(np.arange(1, 20, step=2)),\n",
        "              'n_estimators':np.arange(10, 500, step=50),\n",
        "              'max_features':np.arange(1,5, step=1),\n",
        "              'min_samples_leaf':np.arange(1,6, step=1),\n",
        "              'min_samples_split':np.arange(2, 12, step=2)\n",
        "         }"
      ]
    },
    {
      "cell_type": "code",
      "execution_count": null,
      "metadata": {},
      "outputs": [],
      "source": [
        "grid_search = RandomizedSearchCV(estimator=rf, param_distributions=grid,\n",
        "                              n_iter = 50, scoring='neg_mean_absolute_error', \n",
        "                              cv = 5, verbose=2,\n",
        "                              return_train_score=True)"
      ]
    },
    {
      "cell_type": "code",
      "execution_count": null,
      "metadata": {},
      "outputs": [
        {
          "name": "stdout",
          "output_type": "stream",
          "text": [
            "Fitting 5 folds for each of 50 candidates, totalling 250 fits\n",
            "[CV] END max_depth=7, max_features=1, min_samples_leaf=5, min_samples_split=4, n_estimators=160; total time=   1.0s\n",
            "[CV] END max_depth=7, max_features=1, min_samples_leaf=5, min_samples_split=4, n_estimators=160; total time=   1.0s\n",
            "[CV] END max_depth=7, max_features=1, min_samples_leaf=5, min_samples_split=4, n_estimators=160; total time=   1.0s\n",
            "[CV] END max_depth=7, max_features=1, min_samples_leaf=5, min_samples_split=4, n_estimators=160; total time=   1.1s\n",
            "[CV] END max_depth=7, max_features=1, min_samples_leaf=5, min_samples_split=4, n_estimators=160; total time=   1.0s\n",
            "[CV] END max_depth=5, max_features=3, min_samples_leaf=1, min_samples_split=6, n_estimators=460; total time=   4.8s\n",
            "[CV] END max_depth=5, max_features=3, min_samples_leaf=1, min_samples_split=6, n_estimators=460; total time=   4.8s\n",
            "[CV] END max_depth=5, max_features=3, min_samples_leaf=1, min_samples_split=6, n_estimators=460; total time=   4.7s\n",
            "[CV] END max_depth=5, max_features=3, min_samples_leaf=1, min_samples_split=6, n_estimators=460; total time=   4.7s\n",
            "[CV] END max_depth=5, max_features=3, min_samples_leaf=1, min_samples_split=6, n_estimators=460; total time=   4.7s\n",
            "[CV] END max_depth=5, max_features=2, min_samples_leaf=5, min_samples_split=8, n_estimators=160; total time=   1.2s\n",
            "[CV] END max_depth=5, max_features=2, min_samples_leaf=5, min_samples_split=8, n_estimators=160; total time=   1.3s\n",
            "[CV] END max_depth=5, max_features=2, min_samples_leaf=5, min_samples_split=8, n_estimators=160; total time=   1.2s\n",
            "[CV] END max_depth=5, max_features=2, min_samples_leaf=5, min_samples_split=8, n_estimators=160; total time=   1.3s\n",
            "[CV] END max_depth=5, max_features=2, min_samples_leaf=5, min_samples_split=8, n_estimators=160; total time=   1.2s\n",
            "[CV] END max_depth=3, max_features=2, min_samples_leaf=1, min_samples_split=10, n_estimators=410; total time=   2.1s\n",
            "[CV] END max_depth=3, max_features=2, min_samples_leaf=1, min_samples_split=10, n_estimators=410; total time=   2.0s\n",
            "[CV] END max_depth=3, max_features=2, min_samples_leaf=1, min_samples_split=10, n_estimators=410; total time=   2.0s\n",
            "[CV] END max_depth=3, max_features=2, min_samples_leaf=1, min_samples_split=10, n_estimators=410; total time=   2.1s\n",
            "[CV] END max_depth=3, max_features=2, min_samples_leaf=1, min_samples_split=10, n_estimators=410; total time=   2.1s\n",
            "[CV] END max_depth=13, max_features=2, min_samples_leaf=3, min_samples_split=4, n_estimators=110; total time=   1.7s\n",
            "[CV] END max_depth=13, max_features=2, min_samples_leaf=3, min_samples_split=4, n_estimators=110; total time=   1.7s\n",
            "[CV] END max_depth=13, max_features=2, min_samples_leaf=3, min_samples_split=4, n_estimators=110; total time=   1.7s\n",
            "[CV] END max_depth=13, max_features=2, min_samples_leaf=3, min_samples_split=4, n_estimators=110; total time=   1.7s\n",
            "[CV] END max_depth=13, max_features=2, min_samples_leaf=3, min_samples_split=4, n_estimators=110; total time=   1.7s\n",
            "[CV] END max_depth=7, max_features=1, min_samples_leaf=1, min_samples_split=6, n_estimators=160; total time=   1.0s\n",
            "[CV] END max_depth=7, max_features=1, min_samples_leaf=1, min_samples_split=6, n_estimators=160; total time=   1.0s\n",
            "[CV] END max_depth=7, max_features=1, min_samples_leaf=1, min_samples_split=6, n_estimators=160; total time=   1.0s\n",
            "[CV] END max_depth=7, max_features=1, min_samples_leaf=1, min_samples_split=6, n_estimators=160; total time=   1.0s\n",
            "[CV] END max_depth=7, max_features=1, min_samples_leaf=1, min_samples_split=6, n_estimators=160; total time=   1.0s\n",
            "[CV] END max_depth=5, max_features=1, min_samples_leaf=2, min_samples_split=10, n_estimators=160; total time=   0.8s\n",
            "[CV] END max_depth=5, max_features=1, min_samples_leaf=2, min_samples_split=10, n_estimators=160; total time=   0.7s\n",
            "[CV] END max_depth=5, max_features=1, min_samples_leaf=2, min_samples_split=10, n_estimators=160; total time=   0.8s\n",
            "[CV] END max_depth=5, max_features=1, min_samples_leaf=2, min_samples_split=10, n_estimators=160; total time=   0.8s\n",
            "[CV] END max_depth=5, max_features=1, min_samples_leaf=2, min_samples_split=10, n_estimators=160; total time=   0.7s\n",
            "[CV] END max_depth=15, max_features=1, min_samples_leaf=3, min_samples_split=2, n_estimators=460; total time=   4.8s\n",
            "[CV] END max_depth=15, max_features=1, min_samples_leaf=3, min_samples_split=2, n_estimators=460; total time=   4.9s\n",
            "[CV] END max_depth=15, max_features=1, min_samples_leaf=3, min_samples_split=2, n_estimators=460; total time=   4.9s\n",
            "[CV] END max_depth=15, max_features=1, min_samples_leaf=3, min_samples_split=2, n_estimators=460; total time=   4.8s\n",
            "[CV] END max_depth=15, max_features=1, min_samples_leaf=3, min_samples_split=2, n_estimators=460; total time=   5.0s\n",
            "[CV] END max_depth=17, max_features=1, min_samples_leaf=5, min_samples_split=10, n_estimators=160; total time=   1.7s\n",
            "[CV] END max_depth=17, max_features=1, min_samples_leaf=5, min_samples_split=10, n_estimators=160; total time=   1.7s\n",
            "[CV] END max_depth=17, max_features=1, min_samples_leaf=5, min_samples_split=10, n_estimators=160; total time=   1.7s\n",
            "[CV] END max_depth=17, max_features=1, min_samples_leaf=5, min_samples_split=10, n_estimators=160; total time=   1.7s\n",
            "[CV] END max_depth=17, max_features=1, min_samples_leaf=5, min_samples_split=10, n_estimators=160; total time=   1.7s\n",
            "[CV] END max_depth=11, max_features=3, min_samples_leaf=2, min_samples_split=2, n_estimators=110; total time=   2.1s\n",
            "[CV] END max_depth=11, max_features=3, min_samples_leaf=2, min_samples_split=2, n_estimators=110; total time=   2.1s\n",
            "[CV] END max_depth=11, max_features=3, min_samples_leaf=2, min_samples_split=2, n_estimators=110; total time=   2.1s\n",
            "[CV] END max_depth=11, max_features=3, min_samples_leaf=2, min_samples_split=2, n_estimators=110; total time=   2.1s\n",
            "[CV] END max_depth=11, max_features=3, min_samples_leaf=2, min_samples_split=2, n_estimators=110; total time=   2.1s\n",
            "[CV] END max_depth=7, max_features=3, min_samples_leaf=5, min_samples_split=8, n_estimators=410; total time=   5.5s\n",
            "[CV] END max_depth=7, max_features=3, min_samples_leaf=5, min_samples_split=8, n_estimators=410; total time=   5.6s\n",
            "[CV] END max_depth=7, max_features=3, min_samples_leaf=5, min_samples_split=8, n_estimators=410; total time=   5.5s\n",
            "[CV] END max_depth=7, max_features=3, min_samples_leaf=5, min_samples_split=8, n_estimators=410; total time=   5.5s\n",
            "[CV] END max_depth=7, max_features=3, min_samples_leaf=5, min_samples_split=8, n_estimators=410; total time=   5.5s\n",
            "[CV] END max_depth=3, max_features=4, min_samples_leaf=2, min_samples_split=2, n_estimators=410; total time=   0.1s\n",
            "[CV] END max_depth=3, max_features=4, min_samples_leaf=2, min_samples_split=2, n_estimators=410; total time=   0.1s\n",
            "[CV] END max_depth=3, max_features=4, min_samples_leaf=2, min_samples_split=2, n_estimators=410; total time=   0.1s\n",
            "[CV] END max_depth=3, max_features=4, min_samples_leaf=2, min_samples_split=2, n_estimators=410; total time=   0.1s\n",
            "[CV] END max_depth=3, max_features=4, min_samples_leaf=2, min_samples_split=2, n_estimators=410; total time=   0.1s\n",
            "[CV] END max_depth=19, max_features=3, min_samples_leaf=5, min_samples_split=4, n_estimators=310; total time=   8.1s\n",
            "[CV] END max_depth=19, max_features=3, min_samples_leaf=5, min_samples_split=4, n_estimators=310; total time=   8.1s\n",
            "[CV] END max_depth=19, max_features=3, min_samples_leaf=5, min_samples_split=4, n_estimators=310; total time=   8.1s\n",
            "[CV] END max_depth=19, max_features=3, min_samples_leaf=5, min_samples_split=4, n_estimators=310; total time=   8.3s\n",
            "[CV] END max_depth=19, max_features=3, min_samples_leaf=5, min_samples_split=4, n_estimators=310; total time=   8.2s\n",
            "[CV] END max_depth=17, max_features=1, min_samples_leaf=1, min_samples_split=8, n_estimators=360; total time=   4.8s\n",
            "[CV] END max_depth=17, max_features=1, min_samples_leaf=1, min_samples_split=8, n_estimators=360; total time=   4.7s\n",
            "[CV] END max_depth=17, max_features=1, min_samples_leaf=1, min_samples_split=8, n_estimators=360; total time=   4.8s\n",
            "[CV] END max_depth=17, max_features=1, min_samples_leaf=1, min_samples_split=8, n_estimators=360; total time=   5.0s\n",
            "[CV] END max_depth=17, max_features=1, min_samples_leaf=1, min_samples_split=8, n_estimators=360; total time=   4.8s\n",
            "[CV] END max_depth=3, max_features=1, min_samples_leaf=5, min_samples_split=10, n_estimators=10; total time=   0.0s\n",
            "[CV] END max_depth=3, max_features=1, min_samples_leaf=5, min_samples_split=10, n_estimators=10; total time=   0.0s\n",
            "[CV] END max_depth=3, max_features=1, min_samples_leaf=5, min_samples_split=10, n_estimators=10; total time=   0.0s\n",
            "[CV] END max_depth=3, max_features=1, min_samples_leaf=5, min_samples_split=10, n_estimators=10; total time=   0.0s\n",
            "[CV] END max_depth=3, max_features=1, min_samples_leaf=5, min_samples_split=10, n_estimators=10; total time=   0.0s\n",
            "[CV] END max_depth=9, max_features=4, min_samples_leaf=3, min_samples_split=6, n_estimators=160; total time=   0.0s\n",
            "[CV] END max_depth=9, max_features=4, min_samples_leaf=3, min_samples_split=6, n_estimators=160; total time=   0.0s\n",
            "[CV] END max_depth=9, max_features=4, min_samples_leaf=3, min_samples_split=6, n_estimators=160; total time=   0.0s\n",
            "[CV] END max_depth=9, max_features=4, min_samples_leaf=3, min_samples_split=6, n_estimators=160; total time=   0.0s\n",
            "[CV] END max_depth=9, max_features=4, min_samples_leaf=3, min_samples_split=6, n_estimators=160; total time=   0.0s\n",
            "[CV] END max_depth=5, max_features=3, min_samples_leaf=4, min_samples_split=6, n_estimators=260; total time=   2.8s\n",
            "[CV] END max_depth=5, max_features=3, min_samples_leaf=4, min_samples_split=6, n_estimators=260; total time=   2.9s\n",
            "[CV] END max_depth=5, max_features=3, min_samples_leaf=4, min_samples_split=6, n_estimators=260; total time=   2.9s\n",
            "[CV] END max_depth=5, max_features=3, min_samples_leaf=4, min_samples_split=6, n_estimators=260; total time=   2.8s\n",
            "[CV] END max_depth=5, max_features=3, min_samples_leaf=4, min_samples_split=6, n_estimators=260; total time=   2.8s\n",
            "[CV] END max_depth=9, max_features=2, min_samples_leaf=5, min_samples_split=6, n_estimators=160; total time=   1.9s\n",
            "[CV] END max_depth=9, max_features=2, min_samples_leaf=5, min_samples_split=6, n_estimators=160; total time=   1.9s\n",
            "[CV] END max_depth=9, max_features=2, min_samples_leaf=5, min_samples_split=6, n_estimators=160; total time=   1.9s\n",
            "[CV] END max_depth=9, max_features=2, min_samples_leaf=5, min_samples_split=6, n_estimators=160; total time=   1.9s\n",
            "[CV] END max_depth=9, max_features=2, min_samples_leaf=5, min_samples_split=6, n_estimators=160; total time=   2.0s\n",
            "[CV] END max_depth=15, max_features=1, min_samples_leaf=4, min_samples_split=6, n_estimators=60; total time=   0.6s\n",
            "[CV] END max_depth=15, max_features=1, min_samples_leaf=4, min_samples_split=6, n_estimators=60; total time=   0.6s\n",
            "[CV] END max_depth=15, max_features=1, min_samples_leaf=4, min_samples_split=6, n_estimators=60; total time=   0.6s\n",
            "[CV] END max_depth=15, max_features=1, min_samples_leaf=4, min_samples_split=6, n_estimators=60; total time=   0.6s\n",
            "[CV] END max_depth=15, max_features=1, min_samples_leaf=4, min_samples_split=6, n_estimators=60; total time=   0.6s\n",
            "[CV] END max_depth=19, max_features=3, min_samples_leaf=4, min_samples_split=6, n_estimators=410; total time=  11.0s\n",
            "[CV] END max_depth=19, max_features=3, min_samples_leaf=4, min_samples_split=6, n_estimators=410; total time=  11.0s\n",
            "[CV] END max_depth=19, max_features=3, min_samples_leaf=4, min_samples_split=6, n_estimators=410; total time=  11.1s\n",
            "[CV] END max_depth=19, max_features=3, min_samples_leaf=4, min_samples_split=6, n_estimators=410; total time=  11.1s\n",
            "[CV] END max_depth=19, max_features=3, min_samples_leaf=4, min_samples_split=6, n_estimators=410; total time=  10.9s\n",
            "[CV] END max_depth=17, max_features=4, min_samples_leaf=1, min_samples_split=2, n_estimators=460; total time=   0.1s\n",
            "[CV] END max_depth=17, max_features=4, min_samples_leaf=1, min_samples_split=2, n_estimators=460; total time=   0.1s\n",
            "[CV] END max_depth=17, max_features=4, min_samples_leaf=1, min_samples_split=2, n_estimators=460; total time=   0.1s\n",
            "[CV] END max_depth=17, max_features=4, min_samples_leaf=1, min_samples_split=2, n_estimators=460; total time=   0.1s\n",
            "[CV] END max_depth=17, max_features=4, min_samples_leaf=1, min_samples_split=2, n_estimators=460; total time=   0.1s\n",
            "[CV] END max_depth=9, max_features=2, min_samples_leaf=2, min_samples_split=2, n_estimators=110; total time=   1.3s\n",
            "[CV] END max_depth=9, max_features=2, min_samples_leaf=2, min_samples_split=2, n_estimators=110; total time=   1.3s\n",
            "[CV] END max_depth=9, max_features=2, min_samples_leaf=2, min_samples_split=2, n_estimators=110; total time=   1.3s\n",
            "[CV] END max_depth=9, max_features=2, min_samples_leaf=2, min_samples_split=2, n_estimators=110; total time=   1.3s\n",
            "[CV] END max_depth=9, max_features=2, min_samples_leaf=2, min_samples_split=2, n_estimators=110; total time=   1.3s\n",
            "[CV] END max_depth=5, max_features=1, min_samples_leaf=5, min_samples_split=6, n_estimators=10; total time=   0.1s\n",
            "[CV] END max_depth=5, max_features=1, min_samples_leaf=5, min_samples_split=6, n_estimators=10; total time=   0.1s\n",
            "[CV] END max_depth=5, max_features=1, min_samples_leaf=5, min_samples_split=6, n_estimators=10; total time=   0.0s\n",
            "[CV] END max_depth=5, max_features=1, min_samples_leaf=5, min_samples_split=6, n_estimators=10; total time=   0.1s\n",
            "[CV] END max_depth=5, max_features=1, min_samples_leaf=5, min_samples_split=6, n_estimators=10; total time=   0.1s\n",
            "[CV] END max_depth=9, max_features=1, min_samples_leaf=3, min_samples_split=6, n_estimators=360; total time=   2.8s\n",
            "[CV] END max_depth=9, max_features=1, min_samples_leaf=3, min_samples_split=6, n_estimators=360; total time=   2.7s\n",
            "[CV] END max_depth=9, max_features=1, min_samples_leaf=3, min_samples_split=6, n_estimators=360; total time=   2.8s\n",
            "[CV] END max_depth=9, max_features=1, min_samples_leaf=3, min_samples_split=6, n_estimators=360; total time=   2.7s\n",
            "[CV] END max_depth=9, max_features=1, min_samples_leaf=3, min_samples_split=6, n_estimators=360; total time=   2.7s\n",
            "[CV] END max_depth=1, max_features=2, min_samples_leaf=3, min_samples_split=2, n_estimators=10; total time=   0.0s\n",
            "[CV] END max_depth=1, max_features=2, min_samples_leaf=3, min_samples_split=2, n_estimators=10; total time=   0.0s\n",
            "[CV] END max_depth=1, max_features=2, min_samples_leaf=3, min_samples_split=2, n_estimators=10; total time=   0.0s\n",
            "[CV] END max_depth=1, max_features=2, min_samples_leaf=3, min_samples_split=2, n_estimators=10; total time=   0.0s\n",
            "[CV] END max_depth=1, max_features=2, min_samples_leaf=3, min_samples_split=2, n_estimators=10; total time=   0.0s\n",
            "[CV] END max_depth=5, max_features=2, min_samples_leaf=1, min_samples_split=2, n_estimators=110; total time=   0.8s\n",
            "[CV] END max_depth=5, max_features=2, min_samples_leaf=1, min_samples_split=2, n_estimators=110; total time=   0.9s\n",
            "[CV] END max_depth=5, max_features=2, min_samples_leaf=1, min_samples_split=2, n_estimators=110; total time=   0.8s\n",
            "[CV] END max_depth=5, max_features=2, min_samples_leaf=1, min_samples_split=2, n_estimators=110; total time=   0.8s\n",
            "[CV] END max_depth=5, max_features=2, min_samples_leaf=1, min_samples_split=2, n_estimators=110; total time=   0.8s\n",
            "[CV] END max_depth=15, max_features=1, min_samples_leaf=5, min_samples_split=2, n_estimators=210; total time=   2.1s\n",
            "[CV] END max_depth=15, max_features=1, min_samples_leaf=5, min_samples_split=2, n_estimators=210; total time=   2.1s\n",
            "[CV] END max_depth=15, max_features=1, min_samples_leaf=5, min_samples_split=2, n_estimators=210; total time=   2.1s\n",
            "[CV] END max_depth=15, max_features=1, min_samples_leaf=5, min_samples_split=2, n_estimators=210; total time=   2.1s\n",
            "[CV] END max_depth=15, max_features=1, min_samples_leaf=5, min_samples_split=2, n_estimators=210; total time=   2.1s\n",
            "[CV] END max_depth=13, max_features=3, min_samples_leaf=5, min_samples_split=4, n_estimators=310; total time=   6.6s\n",
            "[CV] END max_depth=13, max_features=3, min_samples_leaf=5, min_samples_split=4, n_estimators=310; total time=   6.6s\n",
            "[CV] END max_depth=13, max_features=3, min_samples_leaf=5, min_samples_split=4, n_estimators=310; total time=   6.6s\n",
            "[CV] END max_depth=13, max_features=3, min_samples_leaf=5, min_samples_split=4, n_estimators=310; total time=   6.7s\n",
            "[CV] END max_depth=13, max_features=3, min_samples_leaf=5, min_samples_split=4, n_estimators=310; total time=   6.6s\n",
            "[CV] END max_depth=17, max_features=2, min_samples_leaf=5, min_samples_split=4, n_estimators=110; total time=   2.0s\n",
            "[CV] END max_depth=17, max_features=2, min_samples_leaf=5, min_samples_split=4, n_estimators=110; total time=   2.0s\n",
            "[CV] END max_depth=17, max_features=2, min_samples_leaf=5, min_samples_split=4, n_estimators=110; total time=   2.0s\n",
            "[CV] END max_depth=17, max_features=2, min_samples_leaf=5, min_samples_split=4, n_estimators=110; total time=   2.0s\n",
            "[CV] END max_depth=17, max_features=2, min_samples_leaf=5, min_samples_split=4, n_estimators=110; total time=   1.9s\n",
            "[CV] END max_depth=3, max_features=3, min_samples_leaf=2, min_samples_split=6, n_estimators=60; total time=   0.4s\n",
            "[CV] END max_depth=3, max_features=3, min_samples_leaf=2, min_samples_split=6, n_estimators=60; total time=   0.4s\n",
            "[CV] END max_depth=3, max_features=3, min_samples_leaf=2, min_samples_split=6, n_estimators=60; total time=   0.4s\n",
            "[CV] END max_depth=3, max_features=3, min_samples_leaf=2, min_samples_split=6, n_estimators=60; total time=   0.4s\n",
            "[CV] END max_depth=3, max_features=3, min_samples_leaf=2, min_samples_split=6, n_estimators=60; total time=   0.4s\n",
            "[CV] END max_depth=17, max_features=3, min_samples_leaf=3, min_samples_split=4, n_estimators=410; total time=  10.6s\n",
            "[CV] END max_depth=17, max_features=3, min_samples_leaf=3, min_samples_split=4, n_estimators=410; total time=  10.5s\n",
            "[CV] END max_depth=17, max_features=3, min_samples_leaf=3, min_samples_split=4, n_estimators=410; total time=  10.5s\n",
            "[CV] END max_depth=17, max_features=3, min_samples_leaf=3, min_samples_split=4, n_estimators=410; total time=  13.7s\n",
            "[CV] END max_depth=17, max_features=3, min_samples_leaf=3, min_samples_split=4, n_estimators=410; total time=  10.6s\n",
            "[CV] END max_depth=19, max_features=2, min_samples_leaf=5, min_samples_split=10, n_estimators=60; total time=   1.1s\n",
            "[CV] END max_depth=19, max_features=2, min_samples_leaf=5, min_samples_split=10, n_estimators=60; total time=   1.1s\n",
            "[CV] END max_depth=19, max_features=2, min_samples_leaf=5, min_samples_split=10, n_estimators=60; total time=   1.1s\n",
            "[CV] END max_depth=19, max_features=2, min_samples_leaf=5, min_samples_split=10, n_estimators=60; total time=   1.1s\n",
            "[CV] END max_depth=19, max_features=2, min_samples_leaf=5, min_samples_split=10, n_estimators=60; total time=   1.1s\n",
            "[CV] END max_depth=13, max_features=4, min_samples_leaf=1, min_samples_split=6, n_estimators=60; total time=   0.0s\n",
            "[CV] END max_depth=13, max_features=4, min_samples_leaf=1, min_samples_split=6, n_estimators=60; total time=   0.0s\n",
            "[CV] END max_depth=13, max_features=4, min_samples_leaf=1, min_samples_split=6, n_estimators=60; total time=   0.0s\n",
            "[CV] END max_depth=13, max_features=4, min_samples_leaf=1, min_samples_split=6, n_estimators=60; total time=   0.0s\n",
            "[CV] END max_depth=13, max_features=4, min_samples_leaf=1, min_samples_split=6, n_estimators=60; total time=   0.0s\n",
            "[CV] END max_depth=19, max_features=2, min_samples_leaf=5, min_samples_split=8, n_estimators=260; total time=   4.9s\n",
            "[CV] END max_depth=19, max_features=2, min_samples_leaf=5, min_samples_split=8, n_estimators=260; total time=   4.8s\n",
            "[CV] END max_depth=19, max_features=2, min_samples_leaf=5, min_samples_split=8, n_estimators=260; total time=   4.8s\n",
            "[CV] END max_depth=19, max_features=2, min_samples_leaf=5, min_samples_split=8, n_estimators=260; total time=   4.9s\n",
            "[CV] END max_depth=19, max_features=2, min_samples_leaf=5, min_samples_split=8, n_estimators=260; total time=   4.8s\n",
            "[CV] END max_depth=5, max_features=4, min_samples_leaf=2, min_samples_split=10, n_estimators=310; total time=   0.1s\n",
            "[CV] END max_depth=5, max_features=4, min_samples_leaf=2, min_samples_split=10, n_estimators=310; total time=   0.1s\n",
            "[CV] END max_depth=5, max_features=4, min_samples_leaf=2, min_samples_split=10, n_estimators=310; total time=   0.1s\n",
            "[CV] END max_depth=5, max_features=4, min_samples_leaf=2, min_samples_split=10, n_estimators=310; total time=   0.1s\n",
            "[CV] END max_depth=5, max_features=4, min_samples_leaf=2, min_samples_split=10, n_estimators=310; total time=   0.1s\n",
            "[CV] END max_depth=9, max_features=3, min_samples_leaf=3, min_samples_split=10, n_estimators=360; total time=   6.0s\n",
            "[CV] END max_depth=9, max_features=3, min_samples_leaf=3, min_samples_split=10, n_estimators=360; total time=   6.1s\n",
            "[CV] END max_depth=9, max_features=3, min_samples_leaf=3, min_samples_split=10, n_estimators=360; total time=   5.9s\n",
            "[CV] END max_depth=9, max_features=3, min_samples_leaf=3, min_samples_split=10, n_estimators=360; total time=   6.0s\n",
            "[CV] END max_depth=9, max_features=3, min_samples_leaf=3, min_samples_split=10, n_estimators=360; total time=   6.0s\n",
            "[CV] END max_depth=1, max_features=3, min_samples_leaf=2, min_samples_split=6, n_estimators=410; total time=   1.3s\n",
            "[CV] END max_depth=1, max_features=3, min_samples_leaf=2, min_samples_split=6, n_estimators=410; total time=   1.4s\n",
            "[CV] END max_depth=1, max_features=3, min_samples_leaf=2, min_samples_split=6, n_estimators=410; total time=   1.3s\n",
            "[CV] END max_depth=1, max_features=3, min_samples_leaf=2, min_samples_split=6, n_estimators=410; total time=   1.4s\n",
            "[CV] END max_depth=1, max_features=3, min_samples_leaf=2, min_samples_split=6, n_estimators=410; total time=   1.3s\n",
            "[CV] END max_depth=13, max_features=1, min_samples_leaf=2, min_samples_split=6, n_estimators=60; total time=   0.6s\n",
            "[CV] END max_depth=13, max_features=1, min_samples_leaf=2, min_samples_split=6, n_estimators=60; total time=   0.6s\n",
            "[CV] END max_depth=13, max_features=1, min_samples_leaf=2, min_samples_split=6, n_estimators=60; total time=   0.6s\n",
            "[CV] END max_depth=13, max_features=1, min_samples_leaf=2, min_samples_split=6, n_estimators=60; total time=   0.6s\n",
            "[CV] END max_depth=13, max_features=1, min_samples_leaf=2, min_samples_split=6, n_estimators=60; total time=   0.6s\n",
            "[CV] END max_depth=13, max_features=4, min_samples_leaf=2, min_samples_split=4, n_estimators=110; total time=   0.0s\n",
            "[CV] END max_depth=13, max_features=4, min_samples_leaf=2, min_samples_split=4, n_estimators=110; total time=   0.0s\n",
            "[CV] END max_depth=13, max_features=4, min_samples_leaf=2, min_samples_split=4, n_estimators=110; total time=   0.0s\n",
            "[CV] END max_depth=13, max_features=4, min_samples_leaf=2, min_samples_split=4, n_estimators=110; total time=   0.0s\n",
            "[CV] END max_depth=13, max_features=4, min_samples_leaf=2, min_samples_split=4, n_estimators=110; total time=   0.0s\n",
            "[CV] END max_depth=1, max_features=1, min_samples_leaf=3, min_samples_split=8, n_estimators=360; total time=   0.7s\n",
            "[CV] END max_depth=1, max_features=1, min_samples_leaf=3, min_samples_split=8, n_estimators=360; total time=   0.7s\n",
            "[CV] END max_depth=1, max_features=1, min_samples_leaf=3, min_samples_split=8, n_estimators=360; total time=   0.7s\n",
            "[CV] END max_depth=1, max_features=1, min_samples_leaf=3, min_samples_split=8, n_estimators=360; total time=   0.7s\n",
            "[CV] END max_depth=1, max_features=1, min_samples_leaf=3, min_samples_split=8, n_estimators=360; total time=   0.7s\n",
            "[CV] END max_depth=3, max_features=4, min_samples_leaf=1, min_samples_split=4, n_estimators=410; total time=   0.1s\n",
            "[CV] END max_depth=3, max_features=4, min_samples_leaf=1, min_samples_split=4, n_estimators=410; total time=   0.1s\n",
            "[CV] END max_depth=3, max_features=4, min_samples_leaf=1, min_samples_split=4, n_estimators=410; total time=   0.1s\n",
            "[CV] END max_depth=3, max_features=4, min_samples_leaf=1, min_samples_split=4, n_estimators=410; total time=   0.1s\n",
            "[CV] END max_depth=3, max_features=4, min_samples_leaf=1, min_samples_split=4, n_estimators=410; total time=   0.1s\n",
            "[CV] END max_depth=13, max_features=1, min_samples_leaf=1, min_samples_split=4, n_estimators=260; total time=   2.7s\n",
            "[CV] END max_depth=13, max_features=1, min_samples_leaf=1, min_samples_split=4, n_estimators=260; total time=   2.8s\n",
            "[CV] END max_depth=13, max_features=1, min_samples_leaf=1, min_samples_split=4, n_estimators=260; total time=   2.7s\n",
            "[CV] END max_depth=13, max_features=1, min_samples_leaf=1, min_samples_split=4, n_estimators=260; total time=   2.7s\n",
            "[CV] END max_depth=13, max_features=1, min_samples_leaf=1, min_samples_split=4, n_estimators=260; total time=   2.7s\n",
            "[CV] END max_depth=3, max_features=3, min_samples_leaf=4, min_samples_split=10, n_estimators=160; total time=   1.1s\n",
            "[CV] END max_depth=3, max_features=3, min_samples_leaf=4, min_samples_split=10, n_estimators=160; total time=   1.1s\n",
            "[CV] END max_depth=3, max_features=3, min_samples_leaf=4, min_samples_split=10, n_estimators=160; total time=   1.1s\n",
            "[CV] END max_depth=3, max_features=3, min_samples_leaf=4, min_samples_split=10, n_estimators=160; total time=   1.1s\n",
            "[CV] END max_depth=3, max_features=3, min_samples_leaf=4, min_samples_split=10, n_estimators=160; total time=   1.1s\n",
            "[CV] END max_depth=17, max_features=3, min_samples_leaf=3, min_samples_split=4, n_estimators=260; total time=   6.6s\n",
            "[CV] END max_depth=17, max_features=3, min_samples_leaf=3, min_samples_split=4, n_estimators=260; total time=   6.6s\n",
            "[CV] END max_depth=17, max_features=3, min_samples_leaf=3, min_samples_split=4, n_estimators=260; total time=   6.6s\n",
            "[CV] END max_depth=17, max_features=3, min_samples_leaf=3, min_samples_split=4, n_estimators=260; total time=   6.6s\n",
            "[CV] END max_depth=17, max_features=3, min_samples_leaf=3, min_samples_split=4, n_estimators=260; total time=   6.6s\n",
            "[CV] END max_depth=1, max_features=1, min_samples_leaf=5, min_samples_split=4, n_estimators=310; total time=   0.6s\n",
            "[CV] END max_depth=1, max_features=1, min_samples_leaf=5, min_samples_split=4, n_estimators=310; total time=   0.6s\n",
            "[CV] END max_depth=1, max_features=1, min_samples_leaf=5, min_samples_split=4, n_estimators=310; total time=   0.6s\n",
            "[CV] END max_depth=1, max_features=1, min_samples_leaf=5, min_samples_split=4, n_estimators=310; total time=   0.6s\n",
            "[CV] END max_depth=1, max_features=1, min_samples_leaf=5, min_samples_split=4, n_estimators=310; total time=   0.6s\n",
            "[CV] END max_depth=11, max_features=4, min_samples_leaf=1, min_samples_split=10, n_estimators=260; total time=   0.1s\n",
            "[CV] END max_depth=11, max_features=4, min_samples_leaf=1, min_samples_split=10, n_estimators=260; total time=   0.0s\n",
            "[CV] END max_depth=11, max_features=4, min_samples_leaf=1, min_samples_split=10, n_estimators=260; total time=   0.0s\n",
            "[CV] END max_depth=11, max_features=4, min_samples_leaf=1, min_samples_split=10, n_estimators=260; total time=   0.0s\n",
            "[CV] END max_depth=11, max_features=4, min_samples_leaf=1, min_samples_split=10, n_estimators=260; total time=   0.1s\n",
            "[CV] END max_depth=13, max_features=2, min_samples_leaf=4, min_samples_split=2, n_estimators=360; total time=   5.4s\n",
            "[CV] END max_depth=13, max_features=2, min_samples_leaf=4, min_samples_split=2, n_estimators=360; total time=   5.5s\n",
            "[CV] END max_depth=13, max_features=2, min_samples_leaf=4, min_samples_split=2, n_estimators=360; total time=   5.5s\n",
            "[CV] END max_depth=13, max_features=2, min_samples_leaf=4, min_samples_split=2, n_estimators=360; total time=   5.5s\n",
            "[CV] END max_depth=13, max_features=2, min_samples_leaf=4, min_samples_split=2, n_estimators=360; total time=   5.5s\n",
            "[CV] END max_depth=5, max_features=3, min_samples_leaf=2, min_samples_split=6, n_estimators=10; total time=   0.1s\n",
            "[CV] END max_depth=5, max_features=3, min_samples_leaf=2, min_samples_split=6, n_estimators=10; total time=   0.1s\n",
            "[CV] END max_depth=5, max_features=3, min_samples_leaf=2, min_samples_split=6, n_estimators=10; total time=   0.1s\n",
            "[CV] END max_depth=5, max_features=3, min_samples_leaf=2, min_samples_split=6, n_estimators=10; total time=   0.1s\n",
            "[CV] END max_depth=5, max_features=3, min_samples_leaf=2, min_samples_split=6, n_estimators=10; total time=   0.1s\n",
            "[CV] END max_depth=13, max_features=3, min_samples_leaf=3, min_samples_split=4, n_estimators=10; total time=   0.2s\n",
            "[CV] END max_depth=13, max_features=3, min_samples_leaf=3, min_samples_split=4, n_estimators=10; total time=   0.2s\n",
            "[CV] END max_depth=13, max_features=3, min_samples_leaf=3, min_samples_split=4, n_estimators=10; total time=   0.2s\n",
            "[CV] END max_depth=13, max_features=3, min_samples_leaf=3, min_samples_split=4, n_estimators=10; total time=   0.2s\n",
            "[CV] END max_depth=13, max_features=3, min_samples_leaf=3, min_samples_split=4, n_estimators=10; total time=   0.2s\n",
            "[CV] END max_depth=7, max_features=3, min_samples_leaf=5, min_samples_split=4, n_estimators=310; total time=   4.2s\n",
            "[CV] END max_depth=7, max_features=3, min_samples_leaf=5, min_samples_split=4, n_estimators=310; total time=   4.2s\n",
            "[CV] END max_depth=7, max_features=3, min_samples_leaf=5, min_samples_split=4, n_estimators=310; total time=   4.2s\n",
            "[CV] END max_depth=7, max_features=3, min_samples_leaf=5, min_samples_split=4, n_estimators=310; total time=   4.2s\n",
            "[CV] END max_depth=7, max_features=3, min_samples_leaf=5, min_samples_split=4, n_estimators=310; total time=   4.2s\n"
          ]
        },
        {
          "name": "stderr",
          "output_type": "stream",
          "text": [
            "/home/sho/anaconda3/lib/python3.9/site-packages/sklearn/model_selection/_validation.py:372: FitFailedWarning: \n",
            "40 fits failed out of a total of 250.\n",
            "The score on these train-test partitions for these parameters will be set to nan.\n",
            "If these failures are not expected, you can try to debug them by setting error_score='raise'.\n",
            "\n",
            "Below are more details about the failures:\n",
            "--------------------------------------------------------------------------------\n",
            "40 fits failed with the following error:\n",
            "Traceback (most recent call last):\n",
            "  File \"/home/sho/anaconda3/lib/python3.9/site-packages/sklearn/model_selection/_validation.py\", line 680, in _fit_and_score\n",
            "    estimator.fit(X_train, y_train, **fit_params)\n",
            "  File \"/home/sho/anaconda3/lib/python3.9/site-packages/sklearn/ensemble/_forest.py\", line 450, in fit\n",
            "    trees = Parallel(\n",
            "  File \"/home/sho/anaconda3/lib/python3.9/site-packages/joblib/parallel.py\", line 1043, in __call__\n",
            "    if self.dispatch_one_batch(iterator):\n",
            "  File \"/home/sho/anaconda3/lib/python3.9/site-packages/joblib/parallel.py\", line 861, in dispatch_one_batch\n",
            "    self._dispatch(tasks)\n",
            "  File \"/home/sho/anaconda3/lib/python3.9/site-packages/joblib/parallel.py\", line 779, in _dispatch\n",
            "    job = self._backend.apply_async(batch, callback=cb)\n",
            "  File \"/home/sho/anaconda3/lib/python3.9/site-packages/joblib/_parallel_backends.py\", line 208, in apply_async\n",
            "    result = ImmediateResult(func)\n",
            "  File \"/home/sho/anaconda3/lib/python3.9/site-packages/joblib/_parallel_backends.py\", line 572, in __init__\n",
            "    self.results = batch()\n",
            "  File \"/home/sho/anaconda3/lib/python3.9/site-packages/joblib/parallel.py\", line 262, in __call__\n",
            "    return [func(*args, **kwargs)\n",
            "  File \"/home/sho/anaconda3/lib/python3.9/site-packages/joblib/parallel.py\", line 262, in <listcomp>\n",
            "    return [func(*args, **kwargs)\n",
            "  File \"/home/sho/anaconda3/lib/python3.9/site-packages/sklearn/utils/fixes.py\", line 216, in __call__\n",
            "    return self.function(*args, **kwargs)\n",
            "  File \"/home/sho/anaconda3/lib/python3.9/site-packages/sklearn/ensemble/_forest.py\", line 185, in _parallel_build_trees\n",
            "    tree.fit(X, y, sample_weight=curr_sample_weight, check_input=False)\n",
            "  File \"/home/sho/anaconda3/lib/python3.9/site-packages/sklearn/tree/_classes.py\", line 1315, in fit\n",
            "    super().fit(\n",
            "  File \"/home/sho/anaconda3/lib/python3.9/site-packages/sklearn/tree/_classes.py\", line 308, in fit\n",
            "    raise ValueError(\"max_features must be in (0, n_features]\")\n",
            "ValueError: max_features must be in (0, n_features]\n",
            "\n",
            "  warnings.warn(some_fits_failed_message, FitFailedWarning)\n",
            "/home/sho/anaconda3/lib/python3.9/site-packages/sklearn/model_selection/_search.py:969: UserWarning: One or more of the test scores are non-finite: [-9.34472544 -9.23008153 -9.33465653 -9.56066505 -8.86931706 -9.28543586\n",
            " -9.48670265 -9.03105168 -9.11971307 -8.82969292 -9.00489576         nan\n",
            " -9.00078321 -8.91334302 -9.65988883         nan -9.22872359 -8.99362901\n",
            " -9.07452582 -8.99075839         nan -8.96686291 -9.50446522 -9.17810013\n",
            " -9.85601366 -9.32856508 -9.10148095 -8.89171739 -8.96730715 -9.51226561\n",
            " -8.92683617 -9.00794746         nan -9.00512727         nan -8.89136055\n",
            " -9.89436735 -9.00030943         nan -9.80040207         nan -8.90853754\n",
            " -9.51020319 -8.92661014 -9.80075121         nan -8.89662784 -9.23232164\n",
            " -8.92498788 -9.00829531]\n",
            "  warnings.warn(\n",
            "/home/sho/anaconda3/lib/python3.9/site-packages/sklearn/model_selection/_search.py:969: UserWarning: One or more of the train scores are non-finite: [-9.26424591 -9.18205837 -9.28677054 -9.54456882 -8.19688438 -9.18819958\n",
            " -9.44673712 -8.33122725 -8.45263338 -8.29895429 -8.88798502         nan\n",
            " -7.5956468  -7.6577185  -9.6563445          nan -9.18182366 -8.77609392\n",
            " -8.48231473 -7.40738511         nan -8.718421   -9.4607241  -9.00398869\n",
            " -9.85397984 -9.27665025 -8.58130419 -8.2178117  -7.91484099 -9.48749249\n",
            " -7.46367316 -7.75315292         nan -7.74175625         nan -8.62602701\n",
            " -9.89366149 -8.45169805         nan -9.79880375         nan -8.21301548\n",
            " -9.48590919 -7.46128418 -9.79936986         nan -8.26720959 -9.18790236\n",
            " -8.12733995 -8.88962333]\n",
            "  warnings.warn(\n"
          ]
        },
        {
          "data": {
            "text/plain": [
              "RandomizedSearchCV(cv=5, estimator=RandomForestRegressor(), n_iter=50,\n",
              "                   param_distributions={'max_depth': [1, 3, 5, 7, 9, 11, 13, 15,\n",
              "                                                      17, 19],\n",
              "                                        'max_features': array([1, 2, 3, 4]),\n",
              "                                        'min_samples_leaf': array([1, 2, 3, 4, 5]),\n",
              "                                        'min_samples_split': array([ 2,  4,  6,  8, 10]),\n",
              "                                        'n_estimators': array([ 10,  60, 110, 160, 210, 260, 310, 360, 410, 460])},\n",
              "                   return_train_score=True, scoring='neg_mean_absolute_error',\n",
              "                   verbose=2)"
            ]
          },
          "execution_count": 64,
          "metadata": {},
          "output_type": "execute_result"
        }
      ],
      "source": [
        "grid_search.fit(x_train,y_train)"
      ]
    },
    {
      "cell_type": "code",
      "execution_count": null,
      "metadata": {},
      "outputs": [
        {
          "data": {
            "text/html": [
              "<div>\n",
              "<style scoped>\n",
              "    .dataframe tbody tr th:only-of-type {\n",
              "        vertical-align: middle;\n",
              "    }\n",
              "\n",
              "    .dataframe tbody tr th {\n",
              "        vertical-align: top;\n",
              "    }\n",
              "\n",
              "    .dataframe thead th {\n",
              "        text-align: right;\n",
              "    }\n",
              "</style>\n",
              "<table border=\"1\" class=\"dataframe\">\n",
              "  <thead>\n",
              "    <tr style=\"text-align: right;\">\n",
              "      <th></th>\n",
              "      <th>seq_id</th>\n",
              "      <th>protein_sequence</th>\n",
              "      <th>pH</th>\n",
              "      <th>data_source</th>\n",
              "    </tr>\n",
              "  </thead>\n",
              "  <tbody>\n",
              "    <tr>\n",
              "      <th>0</th>\n",
              "      <td>31390</td>\n",
              "      <td>VPVNPEPDATSVENVAEKTGSGDSQSDPIKADLEVKGQSALPFDVD...</td>\n",
              "      <td>8</td>\n",
              "      <td>Novozymes</td>\n",
              "    </tr>\n",
              "    <tr>\n",
              "      <th>1</th>\n",
              "      <td>31391</td>\n",
              "      <td>VPVNPEPDATSVENVAKKTGSGDSQSDPIKADLEVKGQSALPFDVD...</td>\n",
              "      <td>8</td>\n",
              "      <td>Novozymes</td>\n",
              "    </tr>\n",
              "    <tr>\n",
              "      <th>2</th>\n",
              "      <td>31392</td>\n",
              "      <td>VPVNPEPDATSVENVAKTGSGDSQSDPIKADLEVKGQSALPFDVDC...</td>\n",
              "      <td>8</td>\n",
              "      <td>Novozymes</td>\n",
              "    </tr>\n",
              "    <tr>\n",
              "      <th>3</th>\n",
              "      <td>31393</td>\n",
              "      <td>VPVNPEPDATSVENVALCTGSGDSQSDPIKADLEVKGQSALPFDVD...</td>\n",
              "      <td>8</td>\n",
              "      <td>Novozymes</td>\n",
              "    </tr>\n",
              "    <tr>\n",
              "      <th>4</th>\n",
              "      <td>31394</td>\n",
              "      <td>VPVNPEPDATSVENVALFTGSGDSQSDPIKADLEVKGQSALPFDVD...</td>\n",
              "      <td>8</td>\n",
              "      <td>Novozymes</td>\n",
              "    </tr>\n",
              "  </tbody>\n",
              "</table>\n",
              "</div>"
            ],
            "text/plain": [
              "   seq_id                                   protein_sequence  pH data_source\n",
              "0   31390  VPVNPEPDATSVENVAEKTGSGDSQSDPIKADLEVKGQSALPFDVD...   8   Novozymes\n",
              "1   31391  VPVNPEPDATSVENVAKKTGSGDSQSDPIKADLEVKGQSALPFDVD...   8   Novozymes\n",
              "2   31392  VPVNPEPDATSVENVAKTGSGDSQSDPIKADLEVKGQSALPFDVDC...   8   Novozymes\n",
              "3   31393  VPVNPEPDATSVENVALCTGSGDSQSDPIKADLEVKGQSALPFDVD...   8   Novozymes\n",
              "4   31394  VPVNPEPDATSVENVALFTGSGDSQSDPIKADLEVKGQSALPFDVD...   8   Novozymes"
            ]
          },
          "execution_count": 67,
          "metadata": {},
          "output_type": "execute_result"
        }
      ],
      "source": [
        "# Get submission turn to csv for submitting\n",
        "# Next step is to run predict on test and look at prediction and get spearman\n",
        "test_df = pd.read_csv('test.csv')\n",
        "submission = pd.DataFrame()\n",
        "submission = test_df['seq_id']\n",
        "get_levdist(test_df)\n",
        "calc_energy(test_df)\n",
        "test_df.drop(columns=['wildtype','seq_id','protein_sequence'], axis=1, inplace=True)\n",
        "submission['tm'] = grid_search.predict(test_df)\n",
        "submission.to_csv('submission.csv',index=False)\n",
        "submission"
      ]
    },
    {
      "cell_type": "code",
      "execution_count": null,
      "metadata": {},
      "outputs": [],
      "source": [
        "pred = grid_search.predict(x_test)\n",
        "stats.spearmanr(y_test, pred)"
      ]
    }
  ],
  "metadata": {
    "colab": {
      "provenance": []
    },
    "kernelspec": {
      "display_name": "Python 3.9.12 ('base')",
      "language": "python",
      "name": "python3"
    },
    "language_info": {
      "codemirror_mode": {
        "name": "ipython",
        "version": 3
      },
      "file_extension": ".py",
      "mimetype": "text/x-python",
      "name": "python",
      "nbconvert_exporter": "python",
      "pygments_lexer": "ipython3",
      "version": "3.9.12"
    },
    "vscode": {
      "interpreter": {
        "hash": "f38d0e30aab68b7178f6242eeb1a09a0d24bc008d0c5c4f08d0e2ff288dbc680"
      }
    }
  },
  "nbformat": 4,
  "nbformat_minor": 0
}
